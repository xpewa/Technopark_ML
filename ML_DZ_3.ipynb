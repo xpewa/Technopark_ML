{
  "nbformat": 4,
  "nbformat_minor": 0,
  "metadata": {
    "colab": {
      "name": "ML_DZ_3.ipynb",
      "provenance": [],
      "collapsed_sections": [],
      "include_colab_link": true
    },
    "kernelspec": {
      "name": "python3",
      "display_name": "Python 3"
    },
    "language_info": {
      "name": "python"
    }
  },
  "cells": [
    {
      "cell_type": "markdown",
      "metadata": {
        "id": "view-in-github",
        "colab_type": "text"
      },
      "source": [
        "<a href=\"https://colab.research.google.com/github/xpewa/Technopark_ML/blob/main/ML_DZ_3.ipynb\" target=\"_parent\"><img src=\"https://colab.research.google.com/assets/colab-badge.svg\" alt=\"Open In Colab\"/></a>"
      ]
    },
    {
      "cell_type": "code",
      "metadata": {
        "colab": {
          "base_uri": "https://localhost:8080/"
        },
        "id": "rLHydGMWhQMe",
        "outputId": "18b4c7a8-6d48-4b8a-f637-0ea5c2028822"
      },
      "source": [
        "import numpy as np\n",
        "import pandas as pd\n",
        "\n",
        "train_df = pd.read_csv('https://raw.githubusercontent.com/xpewa/Technopark_ML/main/train.csv')\n",
        "test_df = pd.read_csv('https://raw.githubusercontent.com/xpewa/Technopark_ML/main/test.csv')\n",
        "\n",
        "X_train = (train_df[\"title\"] + \" \" + train_df[\"url\"]).values\n",
        "X_test = (test_df[\"title\"] + \" \" + test_df[\"url\"]).values\n",
        "y_train = train_df[\"target\"].astype(int).values\n",
        "X_train"
      ],
      "execution_count": null,
      "outputs": [
        {
          "output_type": "execute_result",
          "data": {
            "text/plain": [
              "array(['Экс-министр экономики Молдовы - главе МИДЭИ, цель которого сделать из республики не просителя, а донора: Надо избегать долгого нахождения н� m.kp.md',\n",
              "       'Эта песня стала известна многим телезрителям благодаря сериалу Диверсант-2 www.kp.by',\n",
              "       'Банши 4 сезон 2 серия Бремя красоты смотреть онлайн! fanserials.tv',\n",
              "       ...,\n",
              "       '1941 Plymouth Special Deluxe Hot Rod, Automatic,Small Block,Power Steering, A/C for sale: photos, technical specifications, description topclassiccarsforsale.com',\n",
              "       \"Купить It's Skin Сыворотка питательная Power 10 Formula YE Effector, 30 мл в Москве - WOWCREAM wowcream.ru\",\n",
              "       'Технический спирт в канистрах и флаконах, купить в Москве www.ubu.ru'],\n",
              "      dtype=object)"
            ]
          },
          "metadata": {},
          "execution_count": 11
        }
      ]
    },
    {
      "cell_type": "markdown",
      "metadata": {
        "id": "zaKsiSnI_Fq7"
      },
      "source": [
        "Предварительная обработка данных только снижает показатель :("
      ]
    },
    {
      "cell_type": "code",
      "metadata": {
        "colab": {
          "base_uri": "https://localhost:8080/"
        },
        "id": "YngMUYoU_kbB",
        "outputId": "9570b097-85f0-4f0f-bd58-0c0175bef90c"
      },
      "source": [
        "import re\n",
        "import nltk\n",
        "nltk.download('stopwords')\n",
        "nltk.download('punkt')\n",
        "nltk.download('wordnet')\n",
        "from nltk.corpus import stopwords\n",
        "from nltk.tokenize import word_tokenize\n",
        "from nltk.stem import WordNetLemmatizer\n",
        "\n",
        "stopwords_english = stopwords.words(\"english\")\n",
        "stopwords_russian = stopwords.words(\"russian\")\n",
        "lemmatizer = WordNetLemmatizer()\n",
        "\n",
        "def data_preprocessing(mas_str):\n",
        "  for i in range(len(mas_str)):\n",
        "    #cleaning and lower\n",
        "    string = mas_str[i].strip().lower()\n",
        "    #string = re.sub('[,-_+=:]', '', mas_str[i]).strip().lower()\n",
        "    #tokenization\n",
        "    #tokens = nltk.word_tokenize(string)\n",
        "    #remove stopwords\n",
        "    #string = [word for word in tokens]\n",
        "    #string = [word for word in tokens if word not in stopwords_russian and word not in stopwords_english]\n",
        "    #lemmatization\n",
        "    #string = [lemmatizer.lemmatize(word) for word in string]\n",
        "    #mas_str[i] = ' '.join(string)\n",
        "    mas_str[i] = string\n",
        "  return mas_str\n",
        "\n",
        "X_train = data_preprocessing(X_train)\n",
        "X_train"
      ],
      "execution_count": null,
      "outputs": [
        {
          "output_type": "stream",
          "name": "stdout",
          "text": [
            "[nltk_data] Downloading package stopwords to /root/nltk_data...\n",
            "[nltk_data]   Package stopwords is already up-to-date!\n",
            "[nltk_data] Downloading package punkt to /root/nltk_data...\n",
            "[nltk_data]   Package punkt is already up-to-date!\n",
            "[nltk_data] Downloading package wordnet to /root/nltk_data...\n",
            "[nltk_data]   Package wordnet is already up-to-date!\n"
          ]
        },
        {
          "output_type": "execute_result",
          "data": {
            "text/plain": [
              "array(['экс-министр экономики молдовы - главе мидэи, цель которого сделать из республики не просителя, а донора: надо избегать долгого нахождения н� m.kp.md',\n",
              "       'эта песня стала известна многим телезрителям благодаря сериалу диверсант-2 www.kp.by',\n",
              "       'банши 4 сезон 2 серия бремя красоты смотреть онлайн! fanserials.tv',\n",
              "       ...,\n",
              "       '1941 plymouth special deluxe hot rod, automatic,small block,power steering, a/c for sale: photos, technical specifications, description topclassiccarsforsale.com',\n",
              "       \"купить it's skin сыворотка питательная power 10 formula ye effector, 30 мл в москве - wowcream wowcream.ru\",\n",
              "       'технический спирт в канистрах и флаконах, купить в москве www.ubu.ru'],\n",
              "      dtype=object)"
            ]
          },
          "metadata": {},
          "execution_count": 12
        }
      ]
    },
    {
      "cell_type": "code",
      "metadata": {
        "colab": {
          "base_uri": "https://localhost:8080/"
        },
        "id": "wu7ld3slLjJb",
        "outputId": "d8291490-ea2b-45b8-fece-dea27b87b928"
      },
      "source": [
        "#TF-IDF\n",
        "from sklearn.feature_extraction.text import TfidfVectorizer\n",
        "\n",
        "vectorizer = TfidfVectorizer(min_df = 5)\n",
        "\n",
        "X_train_tfidf = vectorizer.fit_transform(X_train)\n",
        "X_train_tfidf"
      ],
      "execution_count": null,
      "outputs": [
        {
          "output_type": "execute_result",
          "data": {
            "text/plain": [
              "<135309x30515 sparse matrix of type '<class 'numpy.float64'>'\n",
              "\twith 1223350 stored elements in Compressed Sparse Row format>"
            ]
          },
          "metadata": {},
          "execution_count": 13
        }
      ]
    },
    {
      "cell_type": "code",
      "metadata": {
        "colab": {
          "base_uri": "https://localhost:8080/"
        },
        "id": "RJE5gRqpQrP9",
        "outputId": "1edae913-8e7a-4802-b2f9-365b6a06fc75"
      },
      "source": [
        "from sklearn.linear_model import SGDClassifier\n",
        "from sklearn.naive_bayes import MultinomialNB\n",
        "from sklearn.tree import DecisionTreeClassifier\n",
        "from sklearn.ensemble import RandomForestClassifier\n",
        "from sklearn.linear_model import LogisticRegression\n",
        "from sklearn.metrics import f1_score\n",
        "\n",
        "#model = SGDClassifier() # 0.8941184214856992\n",
        "#model = MultinomialNB() # 0.9659487426302492 \n",
        "model = DecisionTreeClassifier() # 0.9978120785254009\n",
        "#model = RandomForestClassifier() # 0.9977823064013426\n",
        "#model = LogisticRegression() # 0.9368364339365511\n",
        "\n",
        "model.fit(\n",
        "    X_train_tfidf,\n",
        "    y_train\n",
        ")\n",
        "\n",
        "y_pred = model.predict(\n",
        "    X_train_tfidf\n",
        ")\n",
        "\n",
        "f1_score(y_train, y_pred)"
      ],
      "execution_count": null,
      "outputs": [
        {
          "output_type": "execute_result",
          "data": {
            "text/plain": [
              "0.9988322304398599"
            ]
          },
          "metadata": {},
          "execution_count": 14
        }
      ]
    },
    {
      "cell_type": "code",
      "metadata": {
        "colab": {
          "base_uri": "https://localhost:8080/"
        },
        "id": "LOYzoWbNT30_",
        "outputId": "94ffdfb2-f7b7-4025-b10f-77d4b188b3a3"
      },
      "source": [
        "X_test = data_preprocessing(X_test)\n",
        "X_test_tfidf = vectorizer.transform(X_test)\n",
        "\n",
        "test_df[\"target\"] = model.predict(X_test_tfidf).astype(bool)\n",
        "\n",
        "test_df[[\"id\", \"target\"]].to_csv(\"my_predict.csv\", index=False)\n",
        "\n",
        "my_predict = pd.read_csv(\"my_predict.csv\")\n",
        "len(my_predict)"
      ],
      "execution_count": null,
      "outputs": [
        {
          "output_type": "execute_result",
          "data": {
            "text/plain": [
              "165378"
            ]
          },
          "metadata": {},
          "execution_count": 16
        }
      ]
    }
  ]
}