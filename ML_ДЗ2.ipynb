{
  "nbformat": 4,
  "nbformat_minor": 0,
  "metadata": {
    "colab": {
      "name": "ML_ДЗ2.ipynb",
      "provenance": [],
      "collapsed_sections": [
        "_aKg2kW9pcLR",
        "QY6Han41_vzK",
        "k1BuYqxLqoeG",
        "Cviup4Rb7751",
        "4l8hjaTQ8DuM",
        "_HuSbq8P8EY_",
        "dLLO-VaL8FSn",
        "sNuoJv7M8eOT"
      ],
      "authorship_tag": "ABX9TyOwYJpdrXQH3uioyqyPCU03",
      "include_colab_link": true
    },
    "kernelspec": {
      "name": "python3",
      "display_name": "Python 3"
    },
    "language_info": {
      "name": "python"
    }
  },
  "cells": [
    {
      "cell_type": "markdown",
      "metadata": {
        "id": "view-in-github",
        "colab_type": "text"
      },
      "source": [
        "<a href=\"https://colab.research.google.com/github/xpewa/Technopark_ML/blob/main/ML_%D0%94%D0%972.ipynb\" target=\"_parent\"><img src=\"https://colab.research.google.com/assets/colab-badge.svg\" alt=\"Open In Colab\"/></a>"
      ]
    },
    {
      "cell_type": "markdown",
      "metadata": {
        "id": "_aKg2kW9pcLR"
      },
      "source": [
        "# Задание"
      ]
    },
    {
      "cell_type": "markdown",
      "metadata": {
        "id": "Ft9A6HS4qXHe"
      },
      "source": [
        "В качестве домашнего задания вам предлагается поработать над предсказанием погоды. Файл с данными вы найдете в соответствующей директории. Вам будет доступен датасет weather.csv, ПЕРВЫЕ 75% (shuffle = False) которого нужно взять для обучения, последние 25% - для тестирования.\n",
        "\n",
        "Требуется построить 4 модели которые будут предсказывать целевую переменную <b>RainTomorrow</b> с помощью:\n",
        "\n",
        "   1. логистической регрессии [sklearn.linear_model.LogisticRegression](https://scikit-learn.org/stable/modules/generated/sklearn.linear_model.LogisticRegression.html#sklearn.linear_model.LogisticRegression)\n",
        "   \n",
        "   2. метода ближайших соседей [sklearn.neighbors](https://scikit-learn.org/stable/modules/neighbors.html)\n",
        " \n",
        "   3. Байесовского классификатора [sklearn.naive_bayes](https://scikit-learn.org/stable/modules/naive_bayes.html)\n",
        "   \n",
        "   4. логистической регрессии реализованной самостоятельно\n",
        "\n",
        "Затем следует сравнить результаты моделей (по качеству и времени выполнения) и сделать вывод о том, какая модель и с какими параметрами даёт лучшие результаты.\n",
        "\n",
        "Не забывайте о том, что работа с признаками играет очень большую роль в построении хорошей модели.\n",
        "\n",
        "Краткое описание данных:\n",
        "\n",
        "    Date - Дата наблюдений\n",
        "    Location - Название локации, в которой расположена метеорологическая станция\n",
        "    MinTemp - Минимальная температура в градусах цельсия\n",
        "    MaxTemp - Максимальная температура в градусах цельсия\n",
        "    Rainfall - Количество осадков, зафиксированных за день в мм\n",
        "    Evaporation - Так называемое \"pan evaporation\" класса А (мм) за 24 часа до 9 утра\n",
        "    Sunshine - Число солнечных часов за день\n",
        "    WindGustDir - направление самого сильного порыва ветра за последние 24 часа\n",
        "    WindGustSpeed - скорость (км / ч) самого сильного порыва ветра за последние 24 часа\n",
        "    WindDir9am - направление ветра в 9 утра"
      ]
    },
    {
      "cell_type": "markdown",
      "metadata": {
        "id": "QY6Han41_vzK"
      },
      "source": [
        "# Реализация логистической регрессии"
      ]
    },
    {
      "cell_type": "code",
      "metadata": {
        "id": "q4k23DKUq2Q3"
      },
      "source": [
        "import warnings\n",
        "warnings.filterwarnings(\"ignore\")\n",
        "import pandas as pd\n",
        "import numpy as np\n",
        "import seaborn as sns\n",
        "import time\n",
        "from sklearn.datasets import make_classification\n",
        "import matplotlib.pyplot as plt\n",
        "%matplotlib notebook"
      ],
      "execution_count": null,
      "outputs": []
    },
    {
      "cell_type": "code",
      "metadata": {
        "id": "C8T9DIiOPiuq"
      },
      "source": [
        "theta = np.array([1, 2, 3])\n",
        "\n",
        "X =  np.array([[ 1,  1, 1],\n",
        "               [-1, -2, 1],\n",
        "               [-1, -2, 2],\n",
        "               [-2, -2, -3]\n",
        "              ])\n",
        "\n",
        "y = np.array([1, 1, 0, 0])"
      ],
      "execution_count": null,
      "outputs": []
    },
    {
      "cell_type": "markdown",
      "metadata": {
        "id": "9zJXIOgtP41y"
      },
      "source": [
        "__Логистическая регрессия__\n",
        "\n",
        "$$p(y|x) = a(x, \\theta) = \\sigma(\\langle x, \\theta \\rangle) = \\frac{1}{1 + \\exp(-\\langle \\theta, x_i \\rangle)}$$"
      ]
    },
    {
      "cell_type": "code",
      "metadata": {
        "id": "M03dDPKmQBJd"
      },
      "source": [
        "def probability(theta, X):\n",
        "    result = 1/(1 + np.exp(-np.dot(X, theta)))\n",
        "    return result\n",
        "prob = probability(theta, X)\n",
        "\n",
        "assert type(prob) == np.ndarray, 'Возвращается неверный тип'\n",
        "assert prob.shape == (X.shape[0],), 'Неверный размер массива'\n",
        "assert (prob.round(3) == [0.998, 0.119, 0.731, 0.]).all(), 'Функция считается неверно'"
      ],
      "execution_count": null,
      "outputs": []
    },
    {
      "cell_type": "markdown",
      "metadata": {
        "id": "y2Yb4XT4QQVz"
      },
      "source": [
        "Функция предсказания метки класса, получает на вход вероятности принадлежности к классу 1 и выдает метки классов $y \\in \\{0, 1\\}$"
      ]
    },
    {
      "cell_type": "code",
      "metadata": {
        "id": "AS44dFqiQRr7"
      },
      "source": [
        "def binary_class_prediction(theta, X, threshold =.5):\n",
        "    prob = probability(theta, X)\n",
        "    result = (prob >= threshold).astype(int)\n",
        "    return result\n",
        "\n",
        "y_pred = binary_class_prediction(theta, X)\n",
        "\n",
        "assert type(y_pred) == np.ndarray, 'Возвращается неверный тип'\n",
        "assert y_pred.shape == (X.shape[0],), 'Неверный размер массива'\n",
        "assert min(y_pred) == 0, 'Функция считается неверно'\n",
        "assert max(y_pred) == 1, 'Функция считается неверно'"
      ],
      "execution_count": null,
      "outputs": []
    },
    {
      "cell_type": "markdown",
      "metadata": {
        "id": "x-9Ny2MBQw3I"
      },
      "source": [
        "__Функционал качества логистической регрессии__\n",
        "\n",
        "Итоговый оптимизируемый функционал качества (logloss), записанный для меток классов $y \\in \\{+1, -1\\}$ и усредненный по выборке\n",
        "\n",
        "$$Q(a, X^\\ell) = \\frac{1}{\\ell}\\sum_{i = 1}^{\\ell}\n",
        "    \\log \\left(\n",
        "        1 + \\exp(-y_i \\langle \\theta, x_i \\rangle)\n",
        "    \\right) \\to \\operatorname*{min}_{\\theta}$$\n",
        "\n",
        "Реализуем его в функции logloss:"
      ]
    },
    {
      "cell_type": "code",
      "metadata": {
        "id": "LTBKmdivQ-cG"
      },
      "source": [
        "def logloss(theta, X, y): \n",
        "    y = np.where(y == 0 , -1, 1)\n",
        "    l = X.shape[0]\n",
        "    result = 1/l * np.sum(np.log(1 + np.exp(-X.dot(theta) * y)))\n",
        "    y = np.where(y == -1, 0, 1)\n",
        "    return result\n",
        "\n",
        "assert logloss(theta, X, y).round(3) == 0.861, 'Функция считается неверно'"
      ],
      "execution_count": null,
      "outputs": []
    },
    {
      "cell_type": "markdown",
      "metadata": {
        "id": "1BFO4EniRQBR"
      },
      "source": [
        "__Алгоритм оптимизации функционала качества. Стохастический градиентный спуск__\n",
        "\n",
        "Реализуем функцию расчета градиента функционала качества в матричном виде:"
      ]
    },
    {
      "cell_type": "code",
      "metadata": {
        "id": "FQR_W1XkS9kU"
      },
      "source": [
        "def gradient(theta, X, y):\n",
        "    y = np.where(y == 0 , -1, 1)\n",
        "    n = X.shape[1]\n",
        "    result = 1/n * np.sum(1 / (1 + np.exp(-y * np.dot(X, theta))) * np.exp(-y * np.dot(X, theta)) * (-y * X.T), axis=1)\n",
        "    y = np.where(y == -1, 0, 1)\n",
        "    return result \n",
        "\n",
        "assert gradient(theta, X, y).shape == theta.shape, 'Неверный размер массива'"
      ],
      "execution_count": null,
      "outputs": []
    },
    {
      "cell_type": "markdown",
      "metadata": {
        "id": "LKNxTcqKUKIX"
      },
      "source": [
        "Функция обучения уже реализована"
      ]
    },
    {
      "cell_type": "code",
      "metadata": {
        "id": "1cw4g82sUK21"
      },
      "source": [
        "def fit(X, y, batch_size=10, h=0.05,  iters=100, plot=True):\n",
        "\n",
        "    # получаем размерности матрицы\n",
        "    size, dim = X.shape\n",
        "\n",
        "    # случайная начальная инициализация\n",
        "    theta = np.random.uniform(size=dim)\n",
        "    \n",
        "    errors = []\n",
        "    \n",
        "    theta_history = theta\n",
        "    colors = [plt.get_cmap('gist_rainbow')(i) for i in np.linspace(0,1,dim)]\n",
        "    \n",
        "    # plt \n",
        "    if plot:\n",
        "        fig = plt.figure(figsize=(15, 10))\n",
        "        ax1 = fig.add_subplot(221)\n",
        "        ax2 = fig.add_subplot(222)\n",
        "        ax3 = fig.add_subplot(212)\n",
        "        fig.suptitle('Gradient descent')\n",
        "        \n",
        "        \n",
        "    for _ in range(iters):  \n",
        "        \n",
        "        # берём случайный набор элементов\n",
        "        batch = np.random.choice(size, batch_size, replace=False)\n",
        "        X_batch = X[batch]\n",
        "        y_batch = y[batch]\n",
        "\n",
        "        # считаем производные\n",
        "        grad = gradient(theta, X_batch, y_batch)\n",
        "        \n",
        "        assert type(grad) == np.ndarray, 'неверный тип'\n",
        "        assert len(grad.shape) == 1, 'Необходимо вернуть одномерный вектор'\n",
        "        assert grad.shape[0] == len(theta), 'длина вектора должна быть равной количеству весов'\n",
        "        \n",
        "        \n",
        "        # Обновляем веса\n",
        "        \n",
        "        theta -= grad * h\n",
        "        \n",
        "        theta_history = np.vstack((theta_history, theta))\n",
        "        \n",
        "        # error\n",
        "        loss = logloss(theta, X, y)\n",
        "        errors.append(loss)\n",
        "        \n",
        "        if plot:\n",
        "            ax1.clear()            \n",
        "            ax1.scatter(range(dim), theta, label='Gradient solution')\n",
        "            ax1.legend(loc=\"upper left\")\n",
        "            ax1.set_title('theta')\n",
        "            ax1.set_ylabel(r'$\\bar \\beta$')\n",
        "            ax1.set_xlabel('weight ID')\n",
        "            \n",
        "            \n",
        "            ax2.plot(range(_+1), errors, 'g-')\n",
        "            ax2.set_title('logloss')\n",
        "            ax2.set_xlabel('itarations')\n",
        "            \n",
        "            ax3.plot(theta_history)\n",
        "            ax3.set_title('update theta')\n",
        "            ax3.set_ylabel('value')\n",
        "            ax3.set_xlabel('itarations')\n",
        "            time.sleep(0.05)\n",
        "            fig.canvas.draw()   \n",
        "            \n",
        "    return theta"
      ],
      "execution_count": null,
      "outputs": []
    },
    {
      "cell_type": "code",
      "metadata": {
        "id": "hvFZh_-uURM3"
      },
      "source": [
        "X, y = make_classification(n_samples=2000)"
      ],
      "execution_count": null,
      "outputs": []
    },
    {
      "cell_type": "code",
      "metadata": {
        "id": "d2Jr1uyDURS6"
      },
      "source": [
        "optimal_theta = fit(X, y, plot=False)"
      ],
      "execution_count": null,
      "outputs": []
    },
    {
      "cell_type": "code",
      "metadata": {
        "id": "Ikq_qVe9UZNU"
      },
      "source": [
        "y_pred = binary_class_prediction(optimal_theta, X)"
      ],
      "execution_count": null,
      "outputs": []
    },
    {
      "cell_type": "markdown",
      "metadata": {
        "id": "cbkE9DsYQVEt"
      },
      "source": [
        "Итоговый класс"
      ]
    },
    {
      "cell_type": "code",
      "metadata": {
        "id": "l2rWa3tYQYS8"
      },
      "source": [
        "class MyLogisticRegression:\n",
        "  def probability(self, X):\n",
        "    result = 1/(1 + np.exp(-np.dot(X, self.theta)))\n",
        "    return result\n",
        "\n",
        "  def binary_class_prediction(self, X, threshold =.5):\n",
        "    prob = self.probability(X)\n",
        "    result = (prob >= threshold).astype(int)\n",
        "    return result\n",
        "\n",
        "  def logloss(self, X, y): \n",
        "    y = np.where(y == 0 , -1, 1)\n",
        "    l = X.shape[0]\n",
        "    result = 1/l * np.sum(np.log(1 + np.exp(-X.dot(theta) * y)))\n",
        "    y = np.where(y == -1, 0, 1)\n",
        "    return result\n",
        "\n",
        "  def _gradient(self, X, y):\n",
        "    y = np.where(y == 0 , -1, 1)\n",
        "    n = X.shape[1]\n",
        "    result = 1/n * np.sum(1 / (1 + np.exp(-y * np.dot(X, theta))) * np.exp(-y * np.dot(X, theta)) * (-y * X.T), axis=1)\n",
        "    y = np.where(y == -1, 0, 1)\n",
        "    return result \n",
        "  \n",
        "  def fit(self, X, y, batch_size=10, h=0.05,  iters=100, plot=True):\n",
        "    size, dim = X.shape\n",
        "\n",
        "    self.theta = np.random.uniform(size=dim)\n",
        "    errors = [] \n",
        "    theta_history = self.theta\n",
        "    colors = [plt.get_cmap('gist_rainbow')(i) for i in np.linspace(0,1,dim)]\n",
        "\n",
        "    if plot:\n",
        "        fig = plt.figure(figsize=(15, 10))\n",
        "        ax1 = fig.add_subplot(221)\n",
        "        ax2 = fig.add_subplot(222)\n",
        "        ax3 = fig.add_subplot(212)\n",
        "        fig.suptitle('Gradient descent')\n",
        "           \n",
        "    for _ in range(iters):  \n",
        "        batch = np.random.choice(size, batch_size, replace=False)\n",
        "        X_batch = X[batch]\n",
        "        y_batch = y[batch]\n",
        "\n",
        "        grad = self._gradient(X_batch, y_batch)\n",
        "        \n",
        "        assert type(grad) == np.ndarray, 'неверный тип'\n",
        "        assert len(grad.shape) == 1, 'Необходимо вернуть одномерный вектор'\n",
        "        assert grad.shape[0] == len(self.theta), 'длина вектора должна быть равной количеству весов'\n",
        "        \n",
        "        self.theta -= grad * h \n",
        "        theta_history = np.vstack((theta_history, self.theta))\n",
        "\n",
        "        loss = self.logloss(X, y)\n",
        "        errors.append(loss)\n",
        "        \n",
        "        if plot:\n",
        "            ax1.clear()            \n",
        "            ax1.scatter(range(dim), self.theta, label='Gradient solution')\n",
        "            ax1.legend(loc=\"upper left\")\n",
        "            ax1.set_title('theta')\n",
        "            ax1.set_ylabel(r'$\\bar \\beta$')\n",
        "            ax1.set_xlabel('weight ID')\n",
        "            \n",
        "            \n",
        "            ax2.plot(range(_+1), errors, 'g-')\n",
        "            ax2.set_title('logloss')\n",
        "            ax2.set_xlabel('itarations')\n",
        "            \n",
        "            ax3.plot(theta_history)\n",
        "            ax3.set_title('update theta')\n",
        "            ax3.set_ylabel('value')\n",
        "            ax3.set_xlabel('itarations')\n",
        "            time.sleep(0.05)\n",
        "            fig.canvas.draw()         "
      ],
      "execution_count": null,
      "outputs": []
    },
    {
      "cell_type": "markdown",
      "metadata": {
        "id": "k1BuYqxLqoeG"
      },
      "source": [
        "# Подготовка данных"
      ]
    },
    {
      "cell_type": "code",
      "metadata": {
        "colab": {
          "base_uri": "https://localhost:8080/",
          "height": 330
        },
        "id": "WuIaM3cRq75H",
        "outputId": "9ab9981c-47ca-40aa-ce04-1bfb93debe03"
      },
      "source": [
        "X = pd.read_csv('https://raw.githubusercontent.com/xpewa/Technopark_ML/main/weather.csv')\n",
        "y = X.RainTomorrow.replace({'No':0, 'Yes': 1})\n",
        "del X['RainTomorrow']\n",
        "X.head()"
      ],
      "execution_count": null,
      "outputs": [
        {
          "output_type": "execute_result",
          "data": {
            "text/html": [
              "<div>\n",
              "<style scoped>\n",
              "    .dataframe tbody tr th:only-of-type {\n",
              "        vertical-align: middle;\n",
              "    }\n",
              "\n",
              "    .dataframe tbody tr th {\n",
              "        vertical-align: top;\n",
              "    }\n",
              "\n",
              "    .dataframe thead th {\n",
              "        text-align: right;\n",
              "    }\n",
              "</style>\n",
              "<table border=\"1\" class=\"dataframe\">\n",
              "  <thead>\n",
              "    <tr style=\"text-align: right;\">\n",
              "      <th></th>\n",
              "      <th>Unnamed: 0</th>\n",
              "      <th>Date</th>\n",
              "      <th>Location</th>\n",
              "      <th>MinTemp</th>\n",
              "      <th>MaxTemp</th>\n",
              "      <th>Rainfall</th>\n",
              "      <th>Evaporation</th>\n",
              "      <th>Sunshine</th>\n",
              "      <th>WindGustDir</th>\n",
              "      <th>WindGustSpeed</th>\n",
              "      <th>WindDir9am</th>\n",
              "      <th>WindDir3pm</th>\n",
              "      <th>WindSpeed9am</th>\n",
              "      <th>WindSpeed3pm</th>\n",
              "      <th>Humidity9am</th>\n",
              "      <th>Humidity3pm</th>\n",
              "      <th>Pressure9am</th>\n",
              "      <th>Pressure3pm</th>\n",
              "      <th>Cloud9am</th>\n",
              "      <th>Cloud3pm</th>\n",
              "      <th>Temp9am</th>\n",
              "      <th>Temp3pm</th>\n",
              "      <th>RainToday</th>\n",
              "    </tr>\n",
              "  </thead>\n",
              "  <tbody>\n",
              "    <tr>\n",
              "      <th>0</th>\n",
              "      <td>0</td>\n",
              "      <td>2008-12-01</td>\n",
              "      <td>Albury</td>\n",
              "      <td>13.4</td>\n",
              "      <td>22.9</td>\n",
              "      <td>0.6</td>\n",
              "      <td>NaN</td>\n",
              "      <td>NaN</td>\n",
              "      <td>W</td>\n",
              "      <td>44.0</td>\n",
              "      <td>W</td>\n",
              "      <td>WNW</td>\n",
              "      <td>20.0</td>\n",
              "      <td>24.0</td>\n",
              "      <td>71.0</td>\n",
              "      <td>22.0</td>\n",
              "      <td>1007.7</td>\n",
              "      <td>1007.1</td>\n",
              "      <td>8.0</td>\n",
              "      <td>NaN</td>\n",
              "      <td>16.9</td>\n",
              "      <td>21.8</td>\n",
              "      <td>No</td>\n",
              "    </tr>\n",
              "    <tr>\n",
              "      <th>1</th>\n",
              "      <td>1</td>\n",
              "      <td>2008-12-02</td>\n",
              "      <td>Albury</td>\n",
              "      <td>7.4</td>\n",
              "      <td>25.1</td>\n",
              "      <td>0.0</td>\n",
              "      <td>NaN</td>\n",
              "      <td>NaN</td>\n",
              "      <td>WNW</td>\n",
              "      <td>44.0</td>\n",
              "      <td>NNW</td>\n",
              "      <td>WSW</td>\n",
              "      <td>4.0</td>\n",
              "      <td>22.0</td>\n",
              "      <td>44.0</td>\n",
              "      <td>25.0</td>\n",
              "      <td>1010.6</td>\n",
              "      <td>1007.8</td>\n",
              "      <td>NaN</td>\n",
              "      <td>NaN</td>\n",
              "      <td>17.2</td>\n",
              "      <td>24.3</td>\n",
              "      <td>No</td>\n",
              "    </tr>\n",
              "    <tr>\n",
              "      <th>2</th>\n",
              "      <td>2</td>\n",
              "      <td>2008-12-03</td>\n",
              "      <td>Albury</td>\n",
              "      <td>12.9</td>\n",
              "      <td>25.7</td>\n",
              "      <td>0.0</td>\n",
              "      <td>NaN</td>\n",
              "      <td>NaN</td>\n",
              "      <td>WSW</td>\n",
              "      <td>46.0</td>\n",
              "      <td>W</td>\n",
              "      <td>WSW</td>\n",
              "      <td>19.0</td>\n",
              "      <td>26.0</td>\n",
              "      <td>38.0</td>\n",
              "      <td>30.0</td>\n",
              "      <td>1007.6</td>\n",
              "      <td>1008.7</td>\n",
              "      <td>NaN</td>\n",
              "      <td>2.0</td>\n",
              "      <td>21.0</td>\n",
              "      <td>23.2</td>\n",
              "      <td>No</td>\n",
              "    </tr>\n",
              "    <tr>\n",
              "      <th>3</th>\n",
              "      <td>3</td>\n",
              "      <td>2008-12-04</td>\n",
              "      <td>Albury</td>\n",
              "      <td>9.2</td>\n",
              "      <td>28.0</td>\n",
              "      <td>0.0</td>\n",
              "      <td>NaN</td>\n",
              "      <td>NaN</td>\n",
              "      <td>NE</td>\n",
              "      <td>24.0</td>\n",
              "      <td>SE</td>\n",
              "      <td>E</td>\n",
              "      <td>11.0</td>\n",
              "      <td>9.0</td>\n",
              "      <td>45.0</td>\n",
              "      <td>16.0</td>\n",
              "      <td>1017.6</td>\n",
              "      <td>1012.8</td>\n",
              "      <td>NaN</td>\n",
              "      <td>NaN</td>\n",
              "      <td>18.1</td>\n",
              "      <td>26.5</td>\n",
              "      <td>No</td>\n",
              "    </tr>\n",
              "    <tr>\n",
              "      <th>4</th>\n",
              "      <td>4</td>\n",
              "      <td>2008-12-05</td>\n",
              "      <td>Albury</td>\n",
              "      <td>17.5</td>\n",
              "      <td>32.3</td>\n",
              "      <td>1.0</td>\n",
              "      <td>NaN</td>\n",
              "      <td>NaN</td>\n",
              "      <td>W</td>\n",
              "      <td>41.0</td>\n",
              "      <td>ENE</td>\n",
              "      <td>NW</td>\n",
              "      <td>7.0</td>\n",
              "      <td>20.0</td>\n",
              "      <td>82.0</td>\n",
              "      <td>33.0</td>\n",
              "      <td>1010.8</td>\n",
              "      <td>1006.0</td>\n",
              "      <td>7.0</td>\n",
              "      <td>8.0</td>\n",
              "      <td>17.8</td>\n",
              "      <td>29.7</td>\n",
              "      <td>No</td>\n",
              "    </tr>\n",
              "  </tbody>\n",
              "</table>\n",
              "</div>"
            ],
            "text/plain": [
              "   Unnamed: 0        Date Location  ...  Temp9am  Temp3pm  RainToday\n",
              "0           0  2008-12-01   Albury  ...     16.9     21.8         No\n",
              "1           1  2008-12-02   Albury  ...     17.2     24.3         No\n",
              "2           2  2008-12-03   Albury  ...     21.0     23.2         No\n",
              "3           3  2008-12-04   Albury  ...     18.1     26.5         No\n",
              "4           4  2008-12-05   Albury  ...     17.8     29.7         No\n",
              "\n",
              "[5 rows x 23 columns]"
            ]
          },
          "metadata": {},
          "execution_count": 16
        }
      ]
    },
    {
      "cell_type": "code",
      "metadata": {
        "colab": {
          "base_uri": "https://localhost:8080/"
        },
        "id": "hwTfFbItuYf8",
        "outputId": "4008f256-3c40-4a87-e363-0f4c9dfe1c00"
      },
      "source": [
        "X.info()"
      ],
      "execution_count": null,
      "outputs": [
        {
          "output_type": "stream",
          "name": "stdout",
          "text": [
            "<class 'pandas.core.frame.DataFrame'>\n",
            "RangeIndex: 142193 entries, 0 to 142192\n",
            "Data columns (total 23 columns):\n",
            " #   Column         Non-Null Count   Dtype  \n",
            "---  ------         --------------   -----  \n",
            " 0   Unnamed: 0     142193 non-null  int64  \n",
            " 1   Date           142193 non-null  object \n",
            " 2   Location       142193 non-null  object \n",
            " 3   MinTemp        141556 non-null  float64\n",
            " 4   MaxTemp        141871 non-null  float64\n",
            " 5   Rainfall       140787 non-null  float64\n",
            " 6   Evaporation    81350 non-null   float64\n",
            " 7   Sunshine       74377 non-null   float64\n",
            " 8   WindGustDir    132863 non-null  object \n",
            " 9   WindGustSpeed  132923 non-null  float64\n",
            " 10  WindDir9am     132180 non-null  object \n",
            " 11  WindDir3pm     138415 non-null  object \n",
            " 12  WindSpeed9am   140845 non-null  float64\n",
            " 13  WindSpeed3pm   139563 non-null  float64\n",
            " 14  Humidity9am    140419 non-null  float64\n",
            " 15  Humidity3pm    138583 non-null  float64\n",
            " 16  Pressure9am    128179 non-null  float64\n",
            " 17  Pressure3pm    128212 non-null  float64\n",
            " 18  Cloud9am       88536 non-null   float64\n",
            " 19  Cloud3pm       85099 non-null   float64\n",
            " 20  Temp9am        141289 non-null  float64\n",
            " 21  Temp3pm        139467 non-null  float64\n",
            " 22  RainToday      140787 non-null  object \n",
            "dtypes: float64(16), int64(1), object(6)\n",
            "memory usage: 25.0+ MB\n"
          ]
        }
      ]
    },
    {
      "cell_type": "markdown",
      "metadata": {
        "id": "C2xKbZXovRKl"
      },
      "source": [
        "**Работа с признаками**\n",
        "\n",
        "Удалим \"лишние\" (на мой взгляд) признаки:\n",
        "\n",
        "* День и год в Date, т.к. на осадки влияет именно месяц\n",
        "* Location, т.к. различный в тестовых и обучающих данных\n",
        "* Evaporation, Sunshine - мало данных\n",
        "\n",
        "Пустые числовые значения заполним средним. Категориальные - на NotGiven."
      ]
    },
    {
      "cell_type": "code",
      "metadata": {
        "colab": {
          "base_uri": "https://localhost:8080/"
        },
        "id": "K7jgKMiHyRYI",
        "outputId": "39940ce0-0469-4ade-aefc-53928dcff6f5"
      },
      "source": [
        "X.RainToday = X.RainToday.replace({'No':0, 'Yes': 1})\n",
        "\n",
        "X.Date = X.Date.apply(lambda x: x.split(\"-\")[1])\n",
        "del X['Location']\n",
        "del X['Evaporation']\n",
        "del X['Sunshine']\n",
        "del X['Unnamed: 0']\n",
        "\n",
        "numeric = X.select_dtypes([np.number])\n",
        "X[numeric.columns] = X[numeric.columns].fillna(numeric.mean())\n",
        "categorical = X.select_dtypes(exclude=[np.number])\n",
        "X[categorical.columns] = X[categorical.columns].fillna(\"NotGiven\")\n",
        "\n",
        "X.info()"
      ],
      "execution_count": null,
      "outputs": [
        {
          "output_type": "stream",
          "name": "stdout",
          "text": [
            "<class 'pandas.core.frame.DataFrame'>\n",
            "RangeIndex: 142193 entries, 0 to 142192\n",
            "Data columns (total 19 columns):\n",
            " #   Column         Non-Null Count   Dtype  \n",
            "---  ------         --------------   -----  \n",
            " 0   Date           142193 non-null  object \n",
            " 1   MinTemp        142193 non-null  float64\n",
            " 2   MaxTemp        142193 non-null  float64\n",
            " 3   Rainfall       142193 non-null  float64\n",
            " 4   WindGustDir    142193 non-null  object \n",
            " 5   WindGustSpeed  142193 non-null  float64\n",
            " 6   WindDir9am     142193 non-null  object \n",
            " 7   WindDir3pm     142193 non-null  object \n",
            " 8   WindSpeed9am   142193 non-null  float64\n",
            " 9   WindSpeed3pm   142193 non-null  float64\n",
            " 10  Humidity9am    142193 non-null  float64\n",
            " 11  Humidity3pm    142193 non-null  float64\n",
            " 12  Pressure9am    142193 non-null  float64\n",
            " 13  Pressure3pm    142193 non-null  float64\n",
            " 14  Cloud9am       142193 non-null  float64\n",
            " 15  Cloud3pm       142193 non-null  float64\n",
            " 16  Temp9am        142193 non-null  float64\n",
            " 17  Temp3pm        142193 non-null  float64\n",
            " 18  RainToday      142193 non-null  float64\n",
            "dtypes: float64(15), object(4)\n",
            "memory usage: 20.6+ MB\n"
          ]
        }
      ]
    },
    {
      "cell_type": "markdown",
      "metadata": {
        "id": "GHaCKKpv6ki_"
      },
      "source": [
        "Разбиение на обучающую и тестовую выборку."
      ]
    },
    {
      "cell_type": "code",
      "metadata": {
        "id": "yokpOFXE6rKl"
      },
      "source": [
        "from sklearn.model_selection import train_test_split\n",
        "X_train, X_test, y_train, y_test = train_test_split(X, y, train_size=0.75, random_state=1, shuffle=False)"
      ],
      "execution_count": null,
      "outputs": []
    },
    {
      "cell_type": "markdown",
      "metadata": {
        "id": "Cviup4Rb7751"
      },
      "source": [
        "# Логистическая регрессия"
      ]
    },
    {
      "cell_type": "code",
      "metadata": {
        "id": "ZXSfQ8059KcK"
      },
      "source": [
        "from sklearn.linear_model import LogisticRegression\n",
        "from sklearn.preprocessing import OneHotEncoder, StandardScaler\n",
        "from sklearn.compose import ColumnTransformer\n",
        "from sklearn.pipeline import Pipeline\n",
        "\n",
        "column_transformer = ColumnTransformer([\n",
        "    ('categorial', OneHotEncoder(handle_unknown=\"ignore\"), categorical.columns),\n",
        "    ('numeric', StandardScaler(), numeric.columns)\n",
        "])\n",
        "\n",
        "pipeline = Pipeline(steps=[\n",
        "    ('categorial+numeric', column_transformer),\n",
        "    ('classify', LogisticRegression())\n",
        "])"
      ],
      "execution_count": null,
      "outputs": []
    },
    {
      "cell_type": "code",
      "metadata": {
        "colab": {
          "base_uri": "https://localhost:8080/"
        },
        "id": "LkDMxZEh_uTj",
        "outputId": "8db84840-ed46-4f2f-8258-e8391d643e7c"
      },
      "source": [
        "%%time\n",
        "model = pipeline.fit(X_train, y_train)\n",
        "y_pred = model.predict(X_test)"
      ],
      "execution_count": null,
      "outputs": [
        {
          "output_type": "stream",
          "name": "stdout",
          "text": [
            "CPU times: user 2.2 s, sys: 20.1 ms, total: 2.22 s\n",
            "Wall time: 2.23 s\n"
          ]
        }
      ]
    },
    {
      "cell_type": "code",
      "metadata": {
        "colab": {
          "base_uri": "https://localhost:8080/"
        },
        "id": "vmrMAVNuCUfN",
        "outputId": "70ea5337-230b-4505-e8ef-f916eb57dabb"
      },
      "source": [
        "from sklearn.metrics import roc_auc_score, classification_report, mean_absolute_error\n",
        "ROC_AUC_logreg = round(roc_auc_score(y_test, y_pred), 3)\n",
        "MAE_logreg = round(mean_absolute_error(y_test, y_pred), 3)\n",
        "\n",
        "print(classification_report(y_test, y_pred))\n",
        "print(\"ROC_AUC: \", ROC_AUC_logreg)\n",
        "print(\"MAE: \", MAE_logreg)"
      ],
      "execution_count": null,
      "outputs": [
        {
          "output_type": "stream",
          "name": "stdout",
          "text": [
            "              precision    recall  f1-score   support\n",
            "\n",
            "           0       0.87      0.96      0.91     27882\n",
            "           1       0.75      0.47      0.58      7667\n",
            "\n",
            "    accuracy                           0.85     35549\n",
            "   macro avg       0.81      0.71      0.74     35549\n",
            "weighted avg       0.84      0.85      0.84     35549\n",
            "\n",
            "ROC_AUC:  0.713\n",
            "MAE:  0.148\n"
          ]
        }
      ]
    },
    {
      "cell_type": "markdown",
      "metadata": {
        "id": "4l8hjaTQ8DuM"
      },
      "source": [
        "# Метод ближайших соседей"
      ]
    },
    {
      "cell_type": "code",
      "metadata": {
        "id": "qj8ylTqOESJM"
      },
      "source": [
        "from sklearn.neighbors import KNeighborsClassifier\n",
        "\n",
        "pipeline = Pipeline(steps=[\n",
        "    ('categorial+numeric', column_transformer),\n",
        "    ('classify', KNeighborsClassifier())\n",
        "])"
      ],
      "execution_count": null,
      "outputs": []
    },
    {
      "cell_type": "code",
      "metadata": {
        "colab": {
          "base_uri": "https://localhost:8080/"
        },
        "id": "WytYxbHJFt0C",
        "outputId": "a377b341-86b7-4850-95c5-ae2b321de813"
      },
      "source": [
        "%%time\n",
        "model = pipeline.fit(X_train, y_train)\n",
        "y_pred = model.predict(X_test)"
      ],
      "execution_count": null,
      "outputs": [
        {
          "output_type": "stream",
          "name": "stdout",
          "text": [
            "CPU times: user 4min 23s, sys: 1.99 s, total: 4min 25s\n",
            "Wall time: 4min 24s\n"
          ]
        }
      ]
    },
    {
      "cell_type": "code",
      "metadata": {
        "colab": {
          "base_uri": "https://localhost:8080/"
        },
        "id": "-nzROXi4Ggu5",
        "outputId": "779d0fa9-6b55-4dae-ae21-8182a626214c"
      },
      "source": [
        "ROC_AUC_kn = round(roc_auc_score(y_test, y_pred), 3)\n",
        "MAE_kn = round(mean_absolute_error(y_test, y_pred), 3)\n",
        "\n",
        "print(classification_report(y_test, y_pred))\n",
        "print(\"ROC_AUC: \", ROC_AUC_kn)\n",
        "print(\"MAE: \", MAE_kn)"
      ],
      "execution_count": null,
      "outputs": [
        {
          "output_type": "stream",
          "name": "stdout",
          "text": [
            "              precision    recall  f1-score   support\n",
            "\n",
            "           0       0.86      0.94      0.89     27882\n",
            "           1       0.65      0.42      0.51      7667\n",
            "\n",
            "    accuracy                           0.83     35549\n",
            "   macro avg       0.75      0.68      0.70     35549\n",
            "weighted avg       0.81      0.83      0.81     35549\n",
            "\n",
            "ROC_AUC:  0.681\n",
            "MAE:  0.173\n"
          ]
        }
      ]
    },
    {
      "cell_type": "markdown",
      "metadata": {
        "id": "_HuSbq8P8EY_"
      },
      "source": [
        "# Байесовский классификатор"
      ]
    },
    {
      "cell_type": "code",
      "metadata": {
        "id": "iEb5ZwWaHIZK"
      },
      "source": [
        "from sklearn.naive_bayes import GaussianNB\n",
        "from sklearn.base import TransformerMixin\n",
        "\n",
        "class DenseTransformer(TransformerMixin):\n",
        "  \n",
        "    def fit(self, X, y=None, **fit_params):\n",
        "        return self\n",
        "\n",
        "    def transform(self, X, y=None, **fit_params):\n",
        "        return X.todense()\n",
        "\n",
        "pipeline = Pipeline(steps=[\n",
        "    ('categorial+numeric', column_transformer),\n",
        "    ('to_dense', DenseTransformer()), \n",
        "    ('classify', GaussianNB())\n",
        "])"
      ],
      "execution_count": null,
      "outputs": []
    },
    {
      "cell_type": "code",
      "metadata": {
        "colab": {
          "base_uri": "https://localhost:8080/"
        },
        "id": "zPiZpKz4HxS5",
        "outputId": "92dcf96a-a3d4-4fc9-9b8e-ff2d4f1d2b07"
      },
      "source": [
        "%%time\n",
        "model = pipeline.fit(X_train, y_train)\n",
        "y_pred = model.predict(X_test)"
      ],
      "execution_count": null,
      "outputs": [
        {
          "output_type": "stream",
          "name": "stdout",
          "text": [
            "CPU times: user 576 ms, sys: 77.2 ms, total: 653 ms\n",
            "Wall time: 663 ms\n"
          ]
        }
      ]
    },
    {
      "cell_type": "code",
      "metadata": {
        "colab": {
          "base_uri": "https://localhost:8080/"
        },
        "id": "MFYlL5HGJyJ9",
        "outputId": "29f84426-70d3-4838-f2c2-a14caf433205"
      },
      "source": [
        "ROC_AUC_nb = round(roc_auc_score(y_test, y_pred), 3)\n",
        "MAE_nb = round(mean_absolute_error(y_test, y_pred), 3)\n",
        "\n",
        "print(classification_report(y_test, y_pred))\n",
        "print(\"ROC_AUC: \", ROC_AUC_nb)\n",
        "print(\"MAE: \", MAE_nb)"
      ],
      "execution_count": null,
      "outputs": [
        {
          "output_type": "stream",
          "name": "stdout",
          "text": [
            "              precision    recall  f1-score   support\n",
            "\n",
            "           0       0.90      0.82      0.86     27882\n",
            "           1       0.51      0.67      0.58      7667\n",
            "\n",
            "    accuracy                           0.79     35549\n",
            "   macro avg       0.70      0.74      0.72     35549\n",
            "weighted avg       0.82      0.79      0.80     35549\n",
            "\n",
            "ROC_AUC:  0.745\n",
            "MAE:  0.212\n"
          ]
        }
      ]
    },
    {
      "cell_type": "markdown",
      "metadata": {
        "id": "dLLO-VaL8FSn"
      },
      "source": [
        "# Моя логистическая регрессия"
      ]
    },
    {
      "cell_type": "code",
      "metadata": {
        "id": "mCnTPY4ALXK-"
      },
      "source": [
        "X_train_array = column_transformer.fit_transform(X_train).toarray()\n",
        "X_test_array = column_transformer.fit_transform(X_test).toarray()"
      ],
      "execution_count": null,
      "outputs": []
    },
    {
      "cell_type": "code",
      "metadata": {
        "colab": {
          "base_uri": "https://localhost:8080/"
        },
        "id": "joaKfDzy4_PU",
        "outputId": "01cd4889-9e47-48cd-f7e7-f3692ffec10c"
      },
      "source": [
        "%%time\n",
        "optimal_theta = fit(X_train_array, y_train, plot=False)\n",
        "y_pred = binary_class_prediction(optimal_theta, X_test_array)"
      ],
      "execution_count": null,
      "outputs": [
        {
          "output_type": "stream",
          "name": "stdout",
          "text": [
            "CPU times: user 3.66 s, sys: 1.41 s, total: 5.07 s\n",
            "Wall time: 2.66 s\n"
          ]
        }
      ]
    },
    {
      "cell_type": "code",
      "metadata": {
        "colab": {
          "base_uri": "https://localhost:8080/"
        },
        "id": "jutpmsPHMXtd",
        "outputId": "02c6e3ae-5d74-47a1-e7e2-4a25567a76e9"
      },
      "source": [
        "ROC_AUC_mylogreg = round(roc_auc_score(y_test, y_pred), 3)\n",
        "MAE_mylogreg = round(mean_absolute_error(y_test, y_pred), 3)\n",
        "\n",
        "print(classification_report(y_test, y_pred))\n",
        "print(\"ROC_AUC: \", ROC_AUC_mylogreg)\n",
        "print(\"MAE: \", MAE_mylogreg)"
      ],
      "execution_count": null,
      "outputs": [
        {
          "output_type": "stream",
          "name": "stdout",
          "text": [
            "              precision    recall  f1-score   support\n",
            "\n",
            "           0       0.96      0.24      0.38     27882\n",
            "           1       0.26      0.96      0.41      7667\n",
            "\n",
            "    accuracy                           0.40     35549\n",
            "   macro avg       0.61      0.60      0.40     35549\n",
            "weighted avg       0.81      0.40      0.39     35549\n",
            "\n",
            "ROC_AUC:  0.602\n",
            "MAE:  0.604\n"
          ]
        }
      ]
    },
    {
      "cell_type": "markdown",
      "metadata": {
        "id": "sNuoJv7M8eOT"
      },
      "source": [
        "# Выводы"
      ]
    },
    {
      "cell_type": "markdown",
      "metadata": {
        "id": "xXrEFdojmgUR"
      },
      "source": [
        "Сравним результаты работы моделей по качеству и времени выполнения.\n"
      ]
    },
    {
      "cell_type": "code",
      "metadata": {
        "colab": {
          "base_uri": "https://localhost:8080/",
          "height": 175
        },
        "id": "AqoYJZ7HicJQ",
        "outputId": "a4e4d6a1-9b68-4b3e-8d9b-a64cd70cd0d1"
      },
      "source": [
        "results = [['LogisticRegression', 2.23, 0.85, ROC_AUC_logreg, MAE_logreg],\n",
        "           ['KNeighborsClassifier', 264, 0.83, ROC_AUC_kn, MAE_kn],\n",
        "           ['Naive Bayes', 0.663, 0.79, ROC_AUC_nb, MAE_nb],\n",
        "           ['MyLogisticRegression', 2.66, 0.40, ROC_AUC_mylogreg, MAE_mylogreg]]\n",
        "\n",
        "results_df = pd.DataFrame(results, columns=['Model', 'Time (s)', 'Accuracy', 'ROC_AUC', 'MAE'])\n",
        "results_df"
      ],
      "execution_count": null,
      "outputs": [
        {
          "output_type": "execute_result",
          "data": {
            "text/html": [
              "<div>\n",
              "<style scoped>\n",
              "    .dataframe tbody tr th:only-of-type {\n",
              "        vertical-align: middle;\n",
              "    }\n",
              "\n",
              "    .dataframe tbody tr th {\n",
              "        vertical-align: top;\n",
              "    }\n",
              "\n",
              "    .dataframe thead th {\n",
              "        text-align: right;\n",
              "    }\n",
              "</style>\n",
              "<table border=\"1\" class=\"dataframe\">\n",
              "  <thead>\n",
              "    <tr style=\"text-align: right;\">\n",
              "      <th></th>\n",
              "      <th>Model</th>\n",
              "      <th>Time (s)</th>\n",
              "      <th>Accuracy</th>\n",
              "      <th>ROC_AUC</th>\n",
              "      <th>MAE</th>\n",
              "    </tr>\n",
              "  </thead>\n",
              "  <tbody>\n",
              "    <tr>\n",
              "      <th>0</th>\n",
              "      <td>LogisticRegression</td>\n",
              "      <td>2.230</td>\n",
              "      <td>0.85</td>\n",
              "      <td>0.713</td>\n",
              "      <td>0.148</td>\n",
              "    </tr>\n",
              "    <tr>\n",
              "      <th>1</th>\n",
              "      <td>KNeighborsClassifier</td>\n",
              "      <td>264.000</td>\n",
              "      <td>0.83</td>\n",
              "      <td>0.681</td>\n",
              "      <td>0.173</td>\n",
              "    </tr>\n",
              "    <tr>\n",
              "      <th>2</th>\n",
              "      <td>Naive Bayes</td>\n",
              "      <td>0.663</td>\n",
              "      <td>0.79</td>\n",
              "      <td>0.745</td>\n",
              "      <td>0.212</td>\n",
              "    </tr>\n",
              "    <tr>\n",
              "      <th>3</th>\n",
              "      <td>MyLogisticRegression</td>\n",
              "      <td>2.660</td>\n",
              "      <td>0.40</td>\n",
              "      <td>0.602</td>\n",
              "      <td>0.604</td>\n",
              "    </tr>\n",
              "  </tbody>\n",
              "</table>\n",
              "</div>"
            ],
            "text/plain": [
              "                  Model  Time (s)  Accuracy  ROC_AUC    MAE\n",
              "0    LogisticRegression     2.230      0.85    0.713  0.148\n",
              "1  KNeighborsClassifier   264.000      0.83    0.681  0.173\n",
              "2           Naive Bayes     0.663      0.79    0.745  0.212\n",
              "3  MyLogisticRegression     2.660      0.40    0.602  0.604"
            ]
          },
          "metadata": {},
          "execution_count": 37
        }
      ]
    },
    {
      "cell_type": "markdown",
      "metadata": {
        "id": "UuKQFUpPqBkv"
      },
      "source": [
        "Наиболее быстрый - Байесовский классификатор. \n",
        "Время выполнения обоих логистических регрессий соизмеримо, но самостоятельно реализованная медленнее. \n",
        "Худший результат с большим отрывом показал метод ближайших соседей.\n",
        "\n",
        "По доле правильных ответов (accuracy) лидирует логистическая регрессия.\n",
        "Площадь под кривой ошибок (ROC_AUC) большая у Байесовского классификатора.\n",
        "И средняя абсолютная ошибка (MAE) наименьшая в случае логистической регрессии.\n",
        "\n",
        "Худшей по всем параметрам оказалась логистическая регрессия, реализованная самостоятельно.\n",
        "\n",
        "Считаю, что победитель - логистическая регрессия."
      ]
    }
  ]
}