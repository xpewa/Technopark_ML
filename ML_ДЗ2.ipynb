{
  "nbformat": 4,
  "nbformat_minor": 0,
  "metadata": {
    "colab": {
      "name": "ML_ДЗ2.ipynb",
      "provenance": [],
      "collapsed_sections": [
        "_aKg2kW9pcLR"
      ],
      "authorship_tag": "ABX9TyPpMMPI0fnMMlPPRoLl5LTm",
      "include_colab_link": true
    },
    "kernelspec": {
      "name": "python3",
      "display_name": "Python 3"
    },
    "language_info": {
      "name": "python"
    }
  },
  "cells": [
    {
      "cell_type": "markdown",
      "metadata": {
        "id": "view-in-github",
        "colab_type": "text"
      },
      "source": [
        "<a href=\"https://colab.research.google.com/github/xpewa/Technopark_ML/blob/main/ML_%D0%94%D0%972.ipynb\" target=\"_parent\"><img src=\"https://colab.research.google.com/assets/colab-badge.svg\" alt=\"Open In Colab\"/></a>"
      ]
    },
    {
      "cell_type": "markdown",
      "metadata": {
        "id": "_aKg2kW9pcLR"
      },
      "source": [
        "# Задание"
      ]
    },
    {
      "cell_type": "markdown",
      "metadata": {
        "id": "Ft9A6HS4qXHe"
      },
      "source": [
        "В качестве домашнего задания вам предлагается поработать над предсказанием погоды. Файл с данными вы найдете в соответствующей директории. Вам будет доступен датасет weather.csv, ПЕРВЫЕ 75% (shuffle = False) которого нужно взять для обучения, последние 25% - для тестирования.\n",
        "\n",
        "Требуется построить 4 модели которые будут предсказывать целевую переменную <b>RainTomorrow</b> с помощью:\n",
        "\n",
        "   1. логистической регрессии [sklearn.linear_model.LogisticRegression](https://scikit-learn.org/stable/modules/generated/sklearn.linear_model.LogisticRegression.html#sklearn.linear_model.LogisticRegression)\n",
        "   \n",
        "   2. метода ближайших соседей [sklearn.neighbors](https://scikit-learn.org/stable/modules/neighbors.html)\n",
        " \n",
        "   3. Байесовского классификатора [sklearn.naive_bayes](https://scikit-learn.org/stable/modules/naive_bayes.html)\n",
        "   \n",
        "   4. логистической регрессии реализованной самостоятельно\n",
        "\n",
        "Затем следует сравнить результаты моделей (по качеству и времени выполнения) и сделать вывод о том, какая модель и с какими параметрами даёт лучшие результаты.\n",
        "\n",
        "Не забывайте о том, что работа с признаками играет очень большую роль в построении хорошей модели.\n",
        "\n",
        "Краткое описание данных:\n",
        "\n",
        "    Date - Дата наблюдений\n",
        "    Location - Название локации, в которой расположена метеорологическая станция\n",
        "    MinTemp - Минимальная температура в градусах цельсия\n",
        "    MaxTemp - Максимальная температура в градусах цельсия\n",
        "    Rainfall - Количество осадков, зафиксированных за день в мм\n",
        "    Evaporation - Так называемое \"pan evaporation\" класса А (мм) за 24 часа до 9 утра\n",
        "    Sunshine - Число солнечных часов за день\n",
        "    WindGustDir - направление самого сильного порыва ветра за последние 24 часа\n",
        "    WindGustSpeed - скорость (км / ч) самого сильного порыва ветра за последние 24 часа\n",
        "    WindDir9am - направление ветра в 9 утра"
      ]
    },
    {
      "cell_type": "markdown",
      "metadata": {
        "id": "k1BuYqxLqoeG"
      },
      "source": [
        "# Подготовка данных"
      ]
    },
    {
      "cell_type": "code",
      "metadata": {
        "id": "q4k23DKUq2Q3"
      },
      "source": [
        "import warnings\n",
        "warnings.filterwarnings(\"ignore\")\n",
        "import pandas as pd\n",
        "import numpy as np\n",
        "import seaborn as sns\n",
        "import time\n",
        "from sklearn.datasets import make_classification\n",
        "import matplotlib.pyplot as plt\n",
        "%matplotlib notebook"
      ],
      "execution_count": 1,
      "outputs": []
    },
    {
      "cell_type": "code",
      "metadata": {
        "id": "WuIaM3cRq75H"
      },
      "source": [
        "X = pd.read_csv('https://raw.githubusercontent.com/xpewa/Technopark_ML/main/weather.csv')"
      ],
      "execution_count": 2,
      "outputs": []
    }
  ]
}