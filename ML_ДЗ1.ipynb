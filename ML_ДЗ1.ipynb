{
  "nbformat": 4,
  "nbformat_minor": 0,
  "metadata": {
    "colab": {
      "name": "ML_ДЗ1.ipynb",
      "provenance": [],
      "collapsed_sections": [
        "EvnFAJXvAiXl",
        "QQgjj-V1CBag",
        "woMWJpBSC5fo",
        "M0eAotusDmLg",
        "nPGRa_U3Eiu3",
        "xvDeQt1wGMKJ",
        "xqNui8cVGzBG"
      ],
      "mount_file_id": "1dnR_2TrcpH7uGk2RBobdngbf7L8OjXOe",
      "authorship_tag": "ABX9TyPDnZzFU8aP5xqRArqvWrP5",
      "include_colab_link": true
    },
    "kernelspec": {
      "name": "python3",
      "display_name": "Python 3"
    },
    "language_info": {
      "name": "python"
    }
  },
  "cells": [
    {
      "cell_type": "markdown",
      "metadata": {
        "id": "view-in-github",
        "colab_type": "text"
      },
      "source": [
        "<a href=\"https://colab.research.google.com/github/xpewa/Technopark_ML/blob/main/ML_%D0%94%D0%971.ipynb\" target=\"_parent\"><img src=\"https://colab.research.google.com/assets/colab-badge.svg\" alt=\"Open In Colab\"/></a>"
      ]
    },
    {
      "cell_type": "markdown",
      "metadata": {
        "id": "EvnFAJXvAiXl"
      },
      "source": [
        "# Задание 1. \n",
        "Подсчитать произведение ненулевых элементов на диагонали прямоугольной матрицы.\n",
        "\n",
        "\n"
      ]
    },
    {
      "cell_type": "code",
      "metadata": {
        "id": "KTjzlFqGBGe2"
      },
      "source": [
        "import numpy as np\n",
        "x = np.array([[1, 0, 1], [2, 0, 2], [3, 0, 3], [4, 4, 4]])"
      ],
      "execution_count": null,
      "outputs": []
    },
    {
      "cell_type": "code",
      "metadata": {
        "colab": {
          "base_uri": "https://localhost:8080/"
        },
        "id": "_n-DBxWfBQC0",
        "outputId": "18f69ab9-5715-4d75-82e2-36ff21d8907e"
      },
      "source": [
        "def func_not_vectorize(x):\n",
        "    res = np.int64(1)\n",
        "    for i in range(min(np.shape(x))):\n",
        "        if x[i, i] != 0:\n",
        "            res *= x[i, i]\n",
        "    return res\n",
        "func_not_vectorize(x)"
      ],
      "execution_count": null,
      "outputs": [
        {
          "output_type": "execute_result",
          "data": {
            "text/plain": [
              "3"
            ]
          },
          "metadata": {},
          "execution_count": 2
        }
      ]
    },
    {
      "cell_type": "code",
      "metadata": {
        "colab": {
          "base_uri": "https://localhost:8080/"
        },
        "id": "USby_dSwBR2U",
        "outputId": "f6653633-c372-49b7-f426-897f86e2a88f"
      },
      "source": [
        "def func_vectorize(x):\n",
        "    return np.diag(x)[np.diag(x)!=0].prod()\n",
        "func_vectorize(x)"
      ],
      "execution_count": null,
      "outputs": [
        {
          "output_type": "execute_result",
          "data": {
            "text/plain": [
              "3"
            ]
          },
          "metadata": {},
          "execution_count": 3
        }
      ]
    },
    {
      "cell_type": "code",
      "metadata": {
        "colab": {
          "base_uri": "https://localhost:8080/"
        },
        "id": "02lStl4DBUge",
        "outputId": "7bc7ea77-ff5c-4ada-8cb8-dd1c0feb0b48"
      },
      "source": [
        "def func_other(x):\n",
        "    mas = np.array([])\n",
        "    for i in np.diag(x):\n",
        "        if i != 0:\n",
        "            mas = np.append(mas, i)\n",
        "    return mas.prod()\n",
        "func_other(x)"
      ],
      "execution_count": null,
      "outputs": [
        {
          "output_type": "execute_result",
          "data": {
            "text/plain": [
              "3.0"
            ]
          },
          "metadata": {},
          "execution_count": 4
        }
      ]
    },
    {
      "cell_type": "code",
      "metadata": {
        "id": "KnW58DpGBZyO"
      },
      "source": [
        "x1 = np.random.rand(10, 10)*10\n",
        "x2 = np.random.rand(100, 100)*10\n",
        "x3 = np.random.rand(500, 1000)*10"
      ],
      "execution_count": null,
      "outputs": []
    },
    {
      "cell_type": "code",
      "metadata": {
        "colab": {
          "base_uri": "https://localhost:8080/"
        },
        "id": "KvKOOFIfBg1z",
        "outputId": "90d6c5f5-07af-450b-8ef5-3c052dcbf72c"
      },
      "source": [
        "%timeit func_vectorize(x1)\n",
        "%timeit func_not_vectorize(x1)\n",
        "%timeit func_other(x1)"
      ],
      "execution_count": null,
      "outputs": [
        {
          "output_type": "stream",
          "name": "stdout",
          "text": [
            "The slowest run took 21.60 times longer than the fastest. This could mean that an intermediate result is being cached.\n",
            "100000 loops, best of 5: 12.4 µs per loop\n",
            "The slowest run took 4.16 times longer than the fastest. This could mean that an intermediate result is being cached.\n",
            "100000 loops, best of 5: 12.5 µs per loop\n",
            "10000 loops, best of 5: 83.6 µs per loop\n"
          ]
        }
      ]
    },
    {
      "cell_type": "code",
      "metadata": {
        "colab": {
          "base_uri": "https://localhost:8080/"
        },
        "id": "nBS3_xXZBhNa",
        "outputId": "5b4db3c6-9289-47b8-84b9-f1ddef39a915"
      },
      "source": [
        "%timeit func_vectorize(x2)\n",
        "%timeit func_not_vectorize(x2)\n",
        "%timeit func_other(x2)"
      ],
      "execution_count": null,
      "outputs": [
        {
          "output_type": "stream",
          "name": "stdout",
          "text": [
            "The slowest run took 9.23 times longer than the fastest. This could mean that an intermediate result is being cached.\n",
            "100000 loops, best of 5: 12.9 µs per loop\n",
            "10000 loops, best of 5: 82 µs per loop\n",
            "1000 loops, best of 5: 756 µs per loop\n"
          ]
        }
      ]
    },
    {
      "cell_type": "code",
      "metadata": {
        "colab": {
          "base_uri": "https://localhost:8080/"
        },
        "id": "FHqAHinNBhaq",
        "outputId": "01229a08-9c0e-4290-d01b-6bc66ed53947"
      },
      "source": [
        "%timeit func_vectorize(x3)\n",
        "%timeit func_not_vectorize(x3)\n",
        "%timeit func_other(x3)"
      ],
      "execution_count": null,
      "outputs": [
        {
          "output_type": "stream",
          "name": "stdout",
          "text": [
            "The slowest run took 14.94 times longer than the fastest. This could mean that an intermediate result is being cached.\n",
            "100000 loops, best of 5: 15.6 µs per loop\n",
            "1000 loops, best of 5: 396 µs per loop\n",
            "100 loops, best of 5: 3.68 ms per loop\n"
          ]
        }
      ]
    },
    {
      "cell_type": "markdown",
      "metadata": {
        "id": "QQgjj-V1CBag"
      },
      "source": [
        "# Задание 2.\n",
        "Дана матрица X и два вектора одинаковой длины i и j. Построить вектор np.array([X[i[0], j[0]], X[i[1], j[1]], ... , X[i[N-1], j[N-1]]])."
      ]
    },
    {
      "cell_type": "code",
      "metadata": {
        "id": "80aGH2TgCMKN"
      },
      "source": [
        "import numpy as np\n",
        "X = np.array([[1, 0], [2, 0], [3, 0], [4, 4]])\n",
        "i = np.array([1, 1])\n",
        "j = np.array([0, 1])"
      ],
      "execution_count": null,
      "outputs": []
    },
    {
      "cell_type": "code",
      "metadata": {
        "colab": {
          "base_uri": "https://localhost:8080/"
        },
        "id": "9bvU8BhXCOsP",
        "outputId": "f14db486-37bb-4fa0-d35a-fb8214a4fc45"
      },
      "source": [
        "def func_not_vectorize(X, i, j):\n",
        "    res = np.array([])\n",
        "    for k in range(len(i)):\n",
        "        res = np.append(res, X[i[k], j[k]])\n",
        "    return res\n",
        "func_not_vectorize(X, i, j)"
      ],
      "execution_count": null,
      "outputs": [
        {
          "output_type": "execute_result",
          "data": {
            "text/plain": [
              "array([2., 0.])"
            ]
          },
          "metadata": {},
          "execution_count": 10
        }
      ]
    },
    {
      "cell_type": "code",
      "metadata": {
        "colab": {
          "base_uri": "https://localhost:8080/"
        },
        "id": "jLLK6gaNCRAW",
        "outputId": "8d57fb40-4461-44ca-c9ae-8072d753c6df"
      },
      "source": [
        "def func_vectorize(X, i, j):\n",
        "    return X[i, j]\n",
        "func_vectorize(X, i, j)"
      ],
      "execution_count": null,
      "outputs": [
        {
          "output_type": "execute_result",
          "data": {
            "text/plain": [
              "array([2, 0])"
            ]
          },
          "metadata": {},
          "execution_count": 11
        }
      ]
    },
    {
      "cell_type": "code",
      "metadata": {
        "colab": {
          "base_uri": "https://localhost:8080/"
        },
        "id": "be66x8HQCTLQ",
        "outputId": "b423074f-703d-44e1-c039-603481b915a9"
      },
      "source": [
        "def func_other(X, i ,j):\n",
        "    mask = np.array(X)\n",
        "    for k1 in range(X.shape[0]):\n",
        "        for k2 in range(X.shape[1]):\n",
        "            if (k1 in i and k2 in j):\n",
        "                mask[k1, k2] = True\n",
        "            else:\n",
        "                mask[k1, k2] = False\n",
        "    return X[mask != 0]\n",
        "func_other(X, i, j)"
      ],
      "execution_count": null,
      "outputs": [
        {
          "output_type": "execute_result",
          "data": {
            "text/plain": [
              "array([2, 0])"
            ]
          },
          "metadata": {},
          "execution_count": 12
        }
      ]
    },
    {
      "cell_type": "code",
      "metadata": {
        "id": "i4slu4ZOCVds"
      },
      "source": [
        "X1 = np.random.rand(50, 50)*10\n",
        "i1, j1 = (np.random.randint(50, size=10),\n",
        "          np.random.randint(50, size=10))\n",
        "X2 = np.random.rand(600, 500)*10\n",
        "i2, j2 = (np.random.randint(600, size=300),\n",
        "          np.random.randint(500, size=300))\n",
        "X3 = np.random.rand(1000, 1000)*10\n",
        "i3, j3 = (np.random.randint(1000, size=200),\n",
        "          np.random.randint(1000, size=200))"
      ],
      "execution_count": null,
      "outputs": []
    },
    {
      "cell_type": "code",
      "metadata": {
        "colab": {
          "base_uri": "https://localhost:8080/"
        },
        "id": "_udYAZIjCb8T",
        "outputId": "02eb4167-e4cb-4297-e149-076f6be5a808"
      },
      "source": [
        "%timeit func_vectorize(X1, i1, j1)\n",
        "%timeit func_not_vectorize(X1, i1, j1)\n",
        "%timeit func_other(X1, i1, j1)"
      ],
      "execution_count": null,
      "outputs": [
        {
          "output_type": "stream",
          "name": "stdout",
          "text": [
            "The slowest run took 1820.87 times longer than the fastest. This could mean that an intermediate result is being cached.\n",
            "1000000 loops, best of 5: 1.28 µs per loop\n",
            "10000 loops, best of 5: 78.5 µs per loop\n",
            "100 loops, best of 5: 10.7 ms per loop\n"
          ]
        }
      ]
    },
    {
      "cell_type": "code",
      "metadata": {
        "colab": {
          "base_uri": "https://localhost:8080/"
        },
        "id": "WroovpbbCeQs",
        "outputId": "441a0f30-6633-4d41-98bd-930ea00c20d3"
      },
      "source": [
        "%timeit func_vectorize(X2, i2, j2)\n",
        "%timeit func_not_vectorize(X2, i2, j2)\n",
        "%timeit func_other(X2, i2, j2)"
      ],
      "execution_count": null,
      "outputs": [
        {
          "output_type": "stream",
          "name": "stdout",
          "text": [
            "The slowest run took 15.72 times longer than the fastest. This could mean that an intermediate result is being cached.\n",
            "100000 loops, best of 5: 3.43 µs per loop\n",
            "100 loops, best of 5: 2.2 ms per loop\n",
            "1 loop, best of 5: 1.52 s per loop\n"
          ]
        }
      ]
    },
    {
      "cell_type": "code",
      "metadata": {
        "colab": {
          "base_uri": "https://localhost:8080/"
        },
        "id": "JSMhfuciCgMs",
        "outputId": "97d69854-b65e-4cf0-cc89-67961e00f029"
      },
      "source": [
        "%timeit func_vectorize(X3, i3, j3)\n",
        "%timeit func_not_vectorize(X3, i3, j3)\n",
        "%timeit func_other(X3, i3, j3)"
      ],
      "execution_count": null,
      "outputs": [
        {
          "output_type": "stream",
          "name": "stdout",
          "text": [
            "The slowest run took 14.97 times longer than the fastest. This could mean that an intermediate result is being cached.\n",
            "100000 loops, best of 5: 2.67 µs per loop\n",
            "1000 loops, best of 5: 1.52 ms per loop\n",
            "1 loop, best of 5: 4.3 s per loop\n"
          ]
        }
      ]
    },
    {
      "cell_type": "markdown",
      "metadata": {
        "id": "woMWJpBSC5fo"
      },
      "source": [
        "# Задание 3.\n",
        "Даны два вектора x и y. Проверить, задают ли они одно и то же мультимножество."
      ]
    },
    {
      "cell_type": "code",
      "metadata": {
        "id": "9SA6PLDeC9sL"
      },
      "source": [
        "import numpy as np\n",
        "x = np.array([1, 2, 2, 4])\n",
        "y = np.array([4, 2, 1, 2])"
      ],
      "execution_count": null,
      "outputs": []
    },
    {
      "cell_type": "code",
      "metadata": {
        "colab": {
          "base_uri": "https://localhost:8080/"
        },
        "id": "wOqnEveNDAit",
        "outputId": "fac7bf61-e30e-4e96-a7d2-868b5d8048de"
      },
      "source": [
        "def func_not_vectorize(x, y):\n",
        "    sort_x = sorted(list(x))\n",
        "    sort_y = sorted(list(y))\n",
        "    return sort_x == sort_y\n",
        "func_not_vectorize(x, y)"
      ],
      "execution_count": null,
      "outputs": [
        {
          "output_type": "execute_result",
          "data": {
            "text/plain": [
              "True"
            ]
          },
          "metadata": {},
          "execution_count": 18
        }
      ]
    },
    {
      "cell_type": "code",
      "metadata": {
        "colab": {
          "base_uri": "https://localhost:8080/"
        },
        "id": "3ebKDfQmDAtw",
        "outputId": "54e8757e-7911-4ac1-ec41-b8c644e0e3ee"
      },
      "source": [
        "def func_vectorize(x, y):\n",
        "    if (x.size != y.size):\n",
        "        return False\n",
        "    sort_x = np.sort(x)\n",
        "    sort_y = np.sort(y)\n",
        "    return (sort_x == sort_y).all()\n",
        "func_vectorize(x, y)"
      ],
      "execution_count": null,
      "outputs": [
        {
          "output_type": "execute_result",
          "data": {
            "text/plain": [
              "True"
            ]
          },
          "metadata": {},
          "execution_count": 19
        }
      ]
    },
    {
      "cell_type": "code",
      "metadata": {
        "colab": {
          "base_uri": "https://localhost:8080/"
        },
        "id": "4e7P1vskDA4G",
        "outputId": "ef83b104-186a-412f-dcca-4f7d4416d542"
      },
      "source": [
        "def func_other(x, y):\n",
        "    if (x.size != y.size):\n",
        "        return False\n",
        "    sort_x = sorted(list(x))\n",
        "    sort_y = sorted(list(y))\n",
        "    for i in range(len(x)):\n",
        "        if sort_x[i] != sort_y[i]:\n",
        "            return False\n",
        "    return True\n",
        "func_other(x, y)"
      ],
      "execution_count": null,
      "outputs": [
        {
          "output_type": "execute_result",
          "data": {
            "text/plain": [
              "True"
            ]
          },
          "metadata": {},
          "execution_count": 20
        }
      ]
    },
    {
      "cell_type": "code",
      "metadata": {
        "id": "5YJi8XHmDHKa"
      },
      "source": [
        "x1 = np.random.rand(50)*10\n",
        "y1 = x1[::-1]\n",
        "x2 = np.random.rand(1000)*10\n",
        "y2 = np.random.rand(1000)*10\n",
        "x3 = np.random.rand(5000)*10\n",
        "y3 = x1[::-1]"
      ],
      "execution_count": null,
      "outputs": []
    },
    {
      "cell_type": "code",
      "metadata": {
        "colab": {
          "base_uri": "https://localhost:8080/"
        },
        "id": "xsQzMcagDHVB",
        "outputId": "d994a566-a4f9-4734-f4de-fab3e4be81fe"
      },
      "source": [
        "%timeit func_vectorize(x1, y1)\n",
        "%timeit func_not_vectorize(x1, y1)\n",
        "%timeit func_other(x1, y1)"
      ],
      "execution_count": null,
      "outputs": [
        {
          "output_type": "stream",
          "name": "stdout",
          "text": [
            "The slowest run took 406.00 times longer than the fastest. This could mean that an intermediate result is being cached.\n",
            "100000 loops, best of 5: 9.84 µs per loop\n",
            "10000 loops, best of 5: 22.7 µs per loop\n",
            "10000 loops, best of 5: 26.8 µs per loop\n"
          ]
        }
      ]
    },
    {
      "cell_type": "code",
      "metadata": {
        "colab": {
          "base_uri": "https://localhost:8080/"
        },
        "id": "5i93bF8MDHeC",
        "outputId": "45ab2ea4-4861-444d-f9b2-150cfe014e4d"
      },
      "source": [
        "%timeit func_vectorize(x2, y2)\n",
        "%timeit func_not_vectorize(x2, y2)\n",
        "%timeit func_other(x, y2)"
      ],
      "execution_count": null,
      "outputs": [
        {
          "output_type": "stream",
          "name": "stdout",
          "text": [
            "10000 loops, best of 5: 105 µs per loop\n",
            "1000 loops, best of 5: 654 µs per loop\n",
            "The slowest run took 16.08 times longer than the fastest. This could mean that an intermediate result is being cached.\n",
            "1000000 loops, best of 5: 216 ns per loop\n"
          ]
        }
      ]
    },
    {
      "cell_type": "code",
      "metadata": {
        "colab": {
          "base_uri": "https://localhost:8080/"
        },
        "id": "15WpiynmDHpd",
        "outputId": "f8f9d52c-79dd-4630-a423-ee7e884208ea"
      },
      "source": [
        "%timeit func_vectorize(x3, y3)\n",
        "%timeit func_not_vectorize(x3, y3)\n",
        "%timeit func_other(x3, y3)"
      ],
      "execution_count": null,
      "outputs": [
        {
          "output_type": "stream",
          "name": "stdout",
          "text": [
            "The slowest run took 20.67 times longer than the fastest. This could mean that an intermediate result is being cached.\n",
            "1000000 loops, best of 5: 236 ns per loop\n",
            "1000 loops, best of 5: 1.96 ms per loop\n",
            "The slowest run took 15.59 times longer than the fastest. This could mean that an intermediate result is being cached.\n",
            "1000000 loops, best of 5: 236 ns per loop\n"
          ]
        }
      ]
    },
    {
      "cell_type": "markdown",
      "metadata": {
        "id": "M0eAotusDmLg"
      },
      "source": [
        "# Задание 4.\n",
        "Найти максимальный элемент в векторе x среди элементов, перед которыми стоит нулевой."
      ]
    },
    {
      "cell_type": "code",
      "metadata": {
        "id": "UE55D48dDppG"
      },
      "source": [
        "import numpy as np\n",
        "x = np.array([6, 2, 0, 3, 0, 0, 5, 7, 0])"
      ],
      "execution_count": null,
      "outputs": []
    },
    {
      "cell_type": "code",
      "metadata": {
        "colab": {
          "base_uri": "https://localhost:8080/"
        },
        "id": "aZcBWncEDp_D",
        "outputId": "214c1bc5-14b2-4f66-baf7-a5ac1f873576"
      },
      "source": [
        "def func_not_vectorize(x):\n",
        "    i = 1\n",
        "    while x[i-1] != 0:\n",
        "        i = i + 1\n",
        "    max = x[i]\n",
        "    for i in range(1, len(x)):\n",
        "        if (x[i-1] == 0 and x[i] > max):\n",
        "            max = x[i]\n",
        "    return max\n",
        "func_not_vectorize(x)"
      ],
      "execution_count": null,
      "outputs": [
        {
          "output_type": "execute_result",
          "data": {
            "text/plain": [
              "5"
            ]
          },
          "metadata": {},
          "execution_count": 26
        }
      ]
    },
    {
      "cell_type": "code",
      "metadata": {
        "colab": {
          "base_uri": "https://localhost:8080/"
        },
        "id": "FUwrC51uDqON",
        "outputId": "c5ec7e5c-4ca8-4674-bf30-88f5de93cf2d"
      },
      "source": [
        "def func_vectorize(x):\n",
        "    return np.max(x[1:][x[:-1] == 0])\n",
        "func_vectorize(x)"
      ],
      "execution_count": null,
      "outputs": [
        {
          "output_type": "execute_result",
          "data": {
            "text/plain": [
              "5"
            ]
          },
          "metadata": {},
          "execution_count": 27
        }
      ]
    },
    {
      "cell_type": "code",
      "metadata": {
        "colab": {
          "base_uri": "https://localhost:8080/"
        },
        "id": "jOAciKieDqZY",
        "outputId": "cde056c4-7e48-4ca0-f2cf-cf7d01ffbaff"
      },
      "source": [
        "def func_other(x):\n",
        "    mas = np.array([])\n",
        "    for i in range(1, len(x)):\n",
        "        if x[i-1] == 0:\n",
        "            mas = np.append(mas, x[i])\n",
        "    return np.max(mas)\n",
        "func_other(x)"
      ],
      "execution_count": null,
      "outputs": [
        {
          "output_type": "execute_result",
          "data": {
            "text/plain": [
              "5.0"
            ]
          },
          "metadata": {},
          "execution_count": 28
        }
      ]
    },
    {
      "cell_type": "code",
      "metadata": {
        "id": "4SyBNdtFDqm8"
      },
      "source": [
        "x1 = np.random.rand(50)\n",
        "x1[np.random.randint(50, size = 10)] = 0\n",
        "x2 = np.random.rand(1000)\n",
        "x2[np.random.randint(1000, size = 100)] = 0\n",
        "x3 = np.random.rand(10000)\n",
        "x3[np.random.randint(10000, size = 10000)] = 0"
      ],
      "execution_count": null,
      "outputs": []
    },
    {
      "cell_type": "code",
      "metadata": {
        "colab": {
          "base_uri": "https://localhost:8080/"
        },
        "id": "qpQBOTjUDq0O",
        "outputId": "7e3badb4-ea40-496b-d4f7-590c605abba7"
      },
      "source": [
        "%timeit func_vectorize(x1)\n",
        "%timeit func_not_vectorize(x1)\n",
        "%timeit func_other(x1)"
      ],
      "execution_count": null,
      "outputs": [
        {
          "output_type": "stream",
          "name": "stdout",
          "text": [
            "The slowest run took 9.64 times longer than the fastest. This could mean that an intermediate result is being cached.\n",
            "100000 loops, best of 5: 10.8 µs per loop\n",
            "10000 loops, best of 5: 25.1 µs per loop\n",
            "10000 loops, best of 5: 109 µs per loop\n"
          ]
        }
      ]
    },
    {
      "cell_type": "code",
      "metadata": {
        "colab": {
          "base_uri": "https://localhost:8080/"
        },
        "id": "MxoKLaaVDrAK",
        "outputId": "6eb76bb4-1567-4cba-dab2-379f71aab80d"
      },
      "source": [
        "%timeit func_vectorize(x2)\n",
        "%timeit func_not_vectorize(x2)\n",
        "%timeit func_other(x2)"
      ],
      "execution_count": null,
      "outputs": [
        {
          "output_type": "stream",
          "name": "stdout",
          "text": [
            "The slowest run took 8.50 times longer than the fastest. This could mean that an intermediate result is being cached.\n",
            "100000 loops, best of 5: 10.1 µs per loop\n",
            "1000 loops, best of 5: 443 µs per loop\n",
            "1000 loops, best of 5: 1.16 ms per loop\n"
          ]
        }
      ]
    },
    {
      "cell_type": "code",
      "metadata": {
        "colab": {
          "base_uri": "https://localhost:8080/"
        },
        "id": "GE_7hnUADrMI",
        "outputId": "6ab3f393-8d09-4a01-b1b8-ecb6e22441e8"
      },
      "source": [
        "%timeit func_vectorize(x3)\n",
        "%timeit func_not_vectorize(x3)\n",
        "%timeit func_other(x3)"
      ],
      "execution_count": null,
      "outputs": [
        {
          "output_type": "stream",
          "name": "stdout",
          "text": [
            "10000 loops, best of 5: 75.3 µs per loop\n",
            "100 loops, best of 5: 5.46 ms per loop\n",
            "10 loops, best of 5: 53.7 ms per loop\n"
          ]
        }
      ]
    },
    {
      "cell_type": "markdown",
      "metadata": {
        "id": "nPGRa_U3Eiu3"
      },
      "source": [
        "# Задание 5.\n",
        "Дан трёхмерный массив, содержащий изображение, размера (height, width, numChannels), а также вектор длины numChannels. Сложить каналы изображения с указанными весами, и вернуть результат в виде матрицы размера (height, width). Считать реальное изображение можно при помощи функции scipy.misc.imread (если изображение не в формате png, установите пакет pillow: conda install pillow). Преобразуйте цветное изображение в оттенки серого, использовав коэффициенты np.array([0.299, 0.587, 0.114])."
      ]
    },
    {
      "cell_type": "code",
      "metadata": {
        "id": "ZkDMxw3CEngg"
      },
      "source": [
        "import numpy as np\n",
        "import imageio\n",
        "img1 = imageio.imread(\"test1.png\")[:, :, :3] #410x489\n",
        "img2 = imageio.imread(\"test2.png\")[:, :, :3] #1024x670\n",
        "img3 = imageio.imread(\"test3.png\")[:, :, :3] #2000x1842\n",
        "weights = np.array([0.299, 0.587, 0.114])"
      ],
      "execution_count": null,
      "outputs": []
    },
    {
      "cell_type": "code",
      "metadata": {
        "colab": {
          "base_uri": "https://localhost:8080/"
        },
        "id": "ZU6H4DiJEnsk",
        "outputId": "3c722454-bbe0-4880-e349-bc4b15bc9655"
      },
      "source": [
        "def func_vectorize(img, weights):\n",
        "    res = np.sum(img * weights, axis=2).astype(np.uint8)\n",
        "    imageio.imsave(\"res.png\", res)\n",
        "    return res\n",
        "func_vectorize(img1, weights)"
      ],
      "execution_count": null,
      "outputs": [
        {
          "output_type": "execute_result",
          "data": {
            "text/plain": [
              "array([[76, 76, 76, ..., 76, 76, 76],\n",
              "       [76, 76, 76, ..., 76, 76, 76],\n",
              "       [76, 76, 76, ..., 76, 76, 76],\n",
              "       ...,\n",
              "       [76, 76, 76, ..., 76, 76, 76],\n",
              "       [76, 76, 76, ..., 76, 76, 76],\n",
              "       [76, 76, 76, ..., 76, 76, 76]], dtype=uint8)"
            ]
          },
          "metadata": {},
          "execution_count": 36
        }
      ]
    },
    {
      "cell_type": "code",
      "metadata": {
        "colab": {
          "base_uri": "https://localhost:8080/"
        },
        "id": "KR1Z0HGtEn3q",
        "outputId": "d5c00759-aa33-4917-e8d7-0da203cb0c3b"
      },
      "source": [
        "def func_not_vectorize(img, weights):\n",
        "    res = np.zeros(img[:, :, 1].shape).astype(np.uint8)\n",
        "    for i in range(img.shape[0]):\n",
        "        for j in range(img.shape[1]):\n",
        "            res[i, j] = weights[0] * img[i, j, 0] + weights[1] * img[i, j, 1] + weights[2] * img[i, j, 2]\n",
        "    imageio.imsave(\"res.png\", res)\n",
        "    return res[:, :]\n",
        "func_not_vectorize(img1, weights)"
      ],
      "execution_count": null,
      "outputs": [
        {
          "output_type": "execute_result",
          "data": {
            "text/plain": [
              "array([[76, 76, 76, ..., 76, 76, 76],\n",
              "       [76, 76, 76, ..., 76, 76, 76],\n",
              "       [76, 76, 76, ..., 76, 76, 76],\n",
              "       ...,\n",
              "       [76, 76, 76, ..., 76, 76, 76],\n",
              "       [76, 76, 76, ..., 76, 76, 76],\n",
              "       [76, 76, 76, ..., 76, 76, 76]], dtype=uint8)"
            ]
          },
          "metadata": {},
          "execution_count": 37
        }
      ]
    },
    {
      "cell_type": "code",
      "metadata": {
        "colab": {
          "base_uri": "https://localhost:8080/"
        },
        "id": "1lPsbA3SEoB1",
        "outputId": "0b0fb97b-1157-4d7f-ee11-044c981eb7bc"
      },
      "source": [
        "def func_other(img, weights):\n",
        "    res = (weights[0] * img[:, :, 0] + weights[1] * img[:, :, 1] + weights[2] * img[:, :, 2]).astype(np.uint8)\n",
        "    imageio.imsave(\"res.png\", res)\n",
        "    return res\n",
        "func_other(img1, weights)"
      ],
      "execution_count": null,
      "outputs": [
        {
          "output_type": "execute_result",
          "data": {
            "text/plain": [
              "Array([[76, 76, 76, ..., 76, 76, 76],\n",
              "       [76, 76, 76, ..., 76, 76, 76],\n",
              "       [76, 76, 76, ..., 76, 76, 76],\n",
              "       ...,\n",
              "       [76, 76, 76, ..., 76, 76, 76],\n",
              "       [76, 76, 76, ..., 76, 76, 76],\n",
              "       [76, 76, 76, ..., 76, 76, 76]], dtype=uint8)"
            ]
          },
          "metadata": {},
          "execution_count": 38
        }
      ]
    },
    {
      "cell_type": "code",
      "metadata": {
        "colab": {
          "base_uri": "https://localhost:8080/"
        },
        "id": "UH3Dj4xDEoMH",
        "outputId": "e8bb6999-446d-4066-f606-6ab37a874b7b"
      },
      "source": [
        "%timeit func_vectorize(img1, weights)\n",
        "%timeit func_not_vectorize(img1, weights)\n",
        "%timeit func_other(img1, weights)"
      ],
      "execution_count": null,
      "outputs": [
        {
          "output_type": "stream",
          "name": "stdout",
          "text": [
            "10 loops, best of 5: 68 ms per loop\n",
            "1 loop, best of 5: 458 ms per loop\n",
            "10 loops, best of 5: 62.5 ms per loop\n"
          ]
        }
      ]
    },
    {
      "cell_type": "code",
      "metadata": {
        "colab": {
          "base_uri": "https://localhost:8080/"
        },
        "id": "SJk4bQN2EoWi",
        "outputId": "36fd31d9-809c-41f4-dad6-f335d6264ac1"
      },
      "source": [
        "%timeit func_vectorize(img2, weights)\n",
        "%timeit func_not_vectorize(img2, weights)\n",
        "%timeit func_other(img2, weights)"
      ],
      "execution_count": null,
      "outputs": [
        {
          "output_type": "stream",
          "name": "stdout",
          "text": [
            "1 loop, best of 5: 242 ms per loop\n",
            "1 loop, best of 5: 1.6 s per loop\n",
            "1 loop, best of 5: 223 ms per loop\n"
          ]
        }
      ]
    },
    {
      "cell_type": "code",
      "metadata": {
        "colab": {
          "base_uri": "https://localhost:8080/"
        },
        "id": "13K5r11nGAsT",
        "outputId": "df4af167-742b-4987-d971-dd54a634100f"
      },
      "source": [
        "%timeit func_vectorize(img3, weights)\n",
        "%timeit func_not_vectorize(img3, weights)\n",
        "%timeit func_other(img3, weights)"
      ],
      "execution_count": null,
      "outputs": [
        {
          "output_type": "stream",
          "name": "stdout",
          "text": [
            "1 loop, best of 5: 1.85 s per loop\n",
            "1 loop, best of 5: 9.06 s per loop\n",
            "1 loop, best of 5: 1.76 s per loop\n"
          ]
        }
      ]
    },
    {
      "cell_type": "markdown",
      "metadata": {
        "id": "xvDeQt1wGMKJ"
      },
      "source": [
        "# Задача 6.\n",
        "Реализовать кодирование длин серий (Run-length encoding). Дан вектор x. Необходимо вернуть кортеж из двух векторов одинаковой длины. Первый содержит числа, а второй - сколько раз их нужно повторить."
      ]
    },
    {
      "cell_type": "code",
      "metadata": {
        "id": "G1EyVaosGVh5"
      },
      "source": [
        "import numpy as np\n",
        "x = np.array([2, 2, 2, 3, 3, 3, 5])"
      ],
      "execution_count": null,
      "outputs": []
    },
    {
      "cell_type": "code",
      "metadata": {
        "colab": {
          "base_uri": "https://localhost:8080/"
        },
        "id": "lHFsgTgxGVu9",
        "outputId": "4462ea3f-e544-4924-cb8a-3eb159111c93"
      },
      "source": [
        "def func_not_vectorize(x):\n",
        "    numbers = np.array([])\n",
        "    repeat = np.array([])\n",
        "    for i in x:\n",
        "        if len(numbers) == 0 or i != numbers[len(numbers)-1]:\n",
        "            numbers = np.append(numbers, i)\n",
        "            repeat = np.append(repeat, 1)\n",
        "        else:\n",
        "            repeat[len(repeat)-1] = repeat[len(repeat)-1] + 1\n",
        "    return (numbers, repeat)\n",
        "func_not_vectorize(x)"
      ],
      "execution_count": null,
      "outputs": [
        {
          "output_type": "execute_result",
          "data": {
            "text/plain": [
              "(array([2., 3., 5.]), array([3., 3., 1.]))"
            ]
          },
          "metadata": {},
          "execution_count": 43
        }
      ]
    },
    {
      "cell_type": "code",
      "metadata": {
        "colab": {
          "base_uri": "https://localhost:8080/"
        },
        "id": "sYmU1UoHGV5I",
        "outputId": "7e23a776-1ea8-4930-ba11-fbc024ef1eea"
      },
      "source": [
        "def func_vectorize(x):\n",
        "    positions = np.append(np.array(0), np.where(np.diff(x) != 0)[0] + 1)\n",
        "    numbers = x[positions]\n",
        "    repeat = np.diff(np.append(positions, len(x)))\n",
        "    return (numbers, repeat)\n",
        "func_vectorize(x)"
      ],
      "execution_count": null,
      "outputs": [
        {
          "output_type": "execute_result",
          "data": {
            "text/plain": [
              "(array([2, 3, 5]), array([3, 3, 1]))"
            ]
          },
          "metadata": {},
          "execution_count": 44
        }
      ]
    },
    {
      "cell_type": "code",
      "metadata": {
        "colab": {
          "base_uri": "https://localhost:8080/"
        },
        "id": "QFXMwjuGGWDm",
        "outputId": "db57182b-c224-44ee-df45-82e548ec8980"
      },
      "source": [
        "def func_other(x):\n",
        "    positions = np.array([0])\n",
        "    for i in range(1, len(x)):\n",
        "        if x[i] != x[i-1]:\n",
        "            positions = np.append(positions, i)\n",
        "    numbers = x[positions]\n",
        "    repeat = np.array([])\n",
        "    for i in range(1, len(positions)):\n",
        "        repeat = np.append(repeat, positions[i]-positions[i-1])\n",
        "    repeat = np.append(repeat, len(x)-positions[i])\n",
        "    return (numbers, repeat)\n",
        "func_other(x)"
      ],
      "execution_count": null,
      "outputs": [
        {
          "output_type": "execute_result",
          "data": {
            "text/plain": [
              "(array([2, 3, 5]), array([3., 3., 1.]))"
            ]
          },
          "metadata": {},
          "execution_count": 45
        }
      ]
    },
    {
      "cell_type": "code",
      "metadata": {
        "id": "oRD6wbpGGWOZ"
      },
      "source": [
        "x1 = np.random.randint(10, size = 50)\n",
        "x2 = np.random.randint(10, size = 1000)\n",
        "x3 = np.random.randint(10, size = 10000)"
      ],
      "execution_count": null,
      "outputs": []
    },
    {
      "cell_type": "code",
      "metadata": {
        "colab": {
          "base_uri": "https://localhost:8080/"
        },
        "id": "N0h_uPsCGWZT",
        "outputId": "0e2deac2-bb02-4cb3-9043-5a79e8716830"
      },
      "source": [
        "%timeit func_vectorize(x1)\n",
        "%timeit func_not_vectorize(x1)\n",
        "%timeit func_other(x1)"
      ],
      "execution_count": null,
      "outputs": [
        {
          "output_type": "stream",
          "name": "stdout",
          "text": [
            "The slowest run took 66.94 times longer than the fastest. This could mean that an intermediate result is being cached.\n",
            "10000 loops, best of 5: 27.8 µs per loop\n",
            "1000 loops, best of 5: 748 µs per loop\n",
            "1000 loops, best of 5: 614 µs per loop\n"
          ]
        }
      ]
    },
    {
      "cell_type": "code",
      "metadata": {
        "colab": {
          "base_uri": "https://localhost:8080/"
        },
        "id": "v3tUM34pGWkX",
        "outputId": "e68006ef-3280-4944-f861-e62d06f350a2"
      },
      "source": [
        "%timeit func_vectorize(x2)\n",
        "%timeit func_not_vectorize(x2)\n",
        "%timeit func_other(x2)"
      ],
      "execution_count": null,
      "outputs": [
        {
          "output_type": "stream",
          "name": "stdout",
          "text": [
            "The slowest run took 5.11 times longer than the fastest. This could mean that an intermediate result is being cached.\n",
            "10000 loops, best of 5: 33 µs per loop\n",
            "100 loops, best of 5: 15.4 ms per loop\n",
            "100 loops, best of 5: 12.9 ms per loop\n"
          ]
        }
      ]
    },
    {
      "cell_type": "code",
      "metadata": {
        "colab": {
          "base_uri": "https://localhost:8080/"
        },
        "id": "jFPS4vDfGrDv",
        "outputId": "c6b78438-16a8-4315-eb8a-68e7e9b69b0e"
      },
      "source": [
        "%timeit func_vectorize(x3)\n",
        "%timeit func_not_vectorize(x3)\n",
        "%timeit func_other(x3)"
      ],
      "execution_count": null,
      "outputs": [
        {
          "output_type": "stream",
          "name": "stdout",
          "text": [
            "The slowest run took 8.12 times longer than the fastest. This could mean that an intermediate result is being cached.\n",
            "10000 loops, best of 5: 82.7 µs per loop\n",
            "10 loops, best of 5: 168 ms per loop\n",
            "10 loops, best of 5: 144 ms per loop\n"
          ]
        }
      ]
    },
    {
      "cell_type": "markdown",
      "metadata": {
        "id": "xqNui8cVGzBG"
      },
      "source": [
        "# Задание 7.\n",
        "Даны две выборки объектов - X и Y. Вычислить матрицу евклидовых расстояний между объектами. Сравнить с функцией scipy.spatial.distance.cdist."
      ]
    },
    {
      "cell_type": "code",
      "metadata": {
        "id": "LWiGf6oxHA3R"
      },
      "source": [
        "import numpy as np\n",
        "import scipy.spatial.distance as ssd\n",
        "x = np.array([[ 35.0456, -85.2672],\n",
        "              [ 35.1174, -89.9711],\n",
        "              [ 35.9728, -83.9422],\n",
        "              [ 36.1667, -86.7833]])\n",
        "y = x"
      ],
      "execution_count": null,
      "outputs": []
    },
    {
      "cell_type": "code",
      "metadata": {
        "colab": {
          "base_uri": "https://localhost:8080/"
        },
        "id": "Ur9hg_cxHBCu",
        "outputId": "7e1757af-773a-4d39-b28f-19ea6b6e2582"
      },
      "source": [
        "def func_not_vectorize(x, y):\n",
        "    res = np.zeros((x.shape[0], y.shape[0]))\n",
        "    for i in range(res.shape[0]):\n",
        "        for j in range(res.shape[1]):\n",
        "            for k in range(x.shape[1]):\n",
        "                res[i, j] += (x[i, k] - y[j, k])**2\n",
        "            res[i, j] = np.sqrt(res[i, j])\n",
        "    return res\n",
        "func_not_vectorize(x, y)"
      ],
      "execution_count": null,
      "outputs": [
        {
          "output_type": "execute_result",
          "data": {
            "text/plain": [
              "array([[0.        , 4.70444794, 1.6171966 , 1.88558331],\n",
              "       [4.70444794, 0.        , 6.0892811 , 3.35605413],\n",
              "       [1.6171966 , 6.0892811 , 0.        , 2.84770898],\n",
              "       [1.88558331, 3.35605413, 2.84770898, 0.        ]])"
            ]
          },
          "metadata": {},
          "execution_count": 51
        }
      ]
    },
    {
      "cell_type": "code",
      "metadata": {
        "colab": {
          "base_uri": "https://localhost:8080/"
        },
        "id": "Fj9jgx02HBNQ",
        "outputId": "e096c27e-fe99-4b54-88aa-7d816de871dc"
      },
      "source": [
        "def func_vectorize(x, y):\n",
        "    return ssd.cdist(x, y)\n",
        "func_vectorize(x, y)"
      ],
      "execution_count": null,
      "outputs": [
        {
          "output_type": "execute_result",
          "data": {
            "text/plain": [
              "array([[0.        , 4.70444794, 1.6171966 , 1.88558331],\n",
              "       [4.70444794, 0.        , 6.0892811 , 3.35605413],\n",
              "       [1.6171966 , 6.0892811 , 0.        , 2.84770898],\n",
              "       [1.88558331, 3.35605413, 2.84770898, 0.        ]])"
            ]
          },
          "metadata": {},
          "execution_count": 53
        }
      ]
    },
    {
      "cell_type": "code",
      "metadata": {
        "colab": {
          "base_uri": "https://localhost:8080/"
        },
        "id": "WGLM7dOCHBXb",
        "outputId": "5cf7d6eb-b9be-434e-b52f-c2276d89ccc7"
      },
      "source": [
        "#(x[0]-y[0])**2 + (x[1]-y[1])**2 = x[0]**2 + y[0]**2 + x[1]**2 + y[1]**2 - 2*(x[0]*y[0] + x[1]*y[1])\n",
        "def func_other(x, y):\n",
        "    res = np.sqrt(np.add.outer(np.sum(x**2, axis=1), np.sum(y**2, axis=1)) - 2*np.dot(x, y.T))\n",
        "    return res\n",
        "func_other(x, y)"
      ],
      "execution_count": null,
      "outputs": [
        {
          "output_type": "execute_result",
          "data": {
            "text/plain": [
              "array([[0.        , 4.70444794, 1.6171966 , 1.88558331],\n",
              "       [4.70444794, 0.        , 6.0892811 , 3.35605413],\n",
              "       [1.6171966 , 6.0892811 , 0.        , 2.84770898],\n",
              "       [1.88558331, 3.35605413, 2.84770898, 0.        ]])"
            ]
          },
          "metadata": {},
          "execution_count": 54
        }
      ]
    },
    {
      "cell_type": "code",
      "metadata": {
        "id": "sY-kOSs_HBhz"
      },
      "source": [
        "x1 = np.random.rand(10, 3)\n",
        "y1 = np.random.rand(20, 3)\n",
        "x2 = np.random.rand(100, 10)\n",
        "y2 = np.random.rand(200, 10)\n",
        "x3 = np.random.rand(200, 30)\n",
        "y3 = np.random.rand(200, 30)"
      ],
      "execution_count": null,
      "outputs": []
    },
    {
      "cell_type": "code",
      "metadata": {
        "colab": {
          "base_uri": "https://localhost:8080/"
        },
        "id": "RfGMhwPVHBsR",
        "outputId": "c4f369ef-ec88-4d4e-9749-504e5fd115a4"
      },
      "source": [
        "%timeit func_vectorize(x1, y1)\n",
        "%timeit func_not_vectorize(x1, y1)\n",
        "%timeit func_other(x1, y1)"
      ],
      "execution_count": null,
      "outputs": [
        {
          "output_type": "stream",
          "name": "stdout",
          "text": [
            "The slowest run took 6.92 times longer than the fastest. This could mean that an intermediate result is being cached.\n",
            "100000 loops, best of 5: 15.4 µs per loop\n",
            "1000 loops, best of 5: 1.2 ms per loop\n",
            "The slowest run took 140.48 times longer than the fastest. This could mean that an intermediate result is being cached.\n",
            "10000 loops, best of 5: 23.1 µs per loop\n"
          ]
        }
      ]
    },
    {
      "cell_type": "code",
      "metadata": {
        "colab": {
          "base_uri": "https://localhost:8080/"
        },
        "id": "aaycdshIHB25",
        "outputId": "0b84f6e5-f4cf-492b-84f9-9907bb7384db"
      },
      "source": [
        "%timeit func_vectorize(x2, y2)\n",
        "%timeit func_not_vectorize(x2, y2)\n",
        "%timeit func_other(x2, y2)"
      ],
      "execution_count": null,
      "outputs": [
        {
          "output_type": "stream",
          "name": "stdout",
          "text": [
            "10000 loops, best of 5: 200 µs per loop\n",
            "1 loop, best of 5: 295 ms per loop\n",
            "10000 loops, best of 5: 125 µs per loop\n"
          ]
        }
      ]
    },
    {
      "cell_type": "code",
      "metadata": {
        "colab": {
          "base_uri": "https://localhost:8080/"
        },
        "id": "xMkx5kgIHCBM",
        "outputId": "ded5eea2-3df7-4f54-c3a9-b122345ea6da"
      },
      "source": [
        "%timeit func_vectorize(x3, y3)\n",
        "%timeit func_not_vectorize(x3, y3)\n",
        "%timeit func_other(x3, y3)"
      ],
      "execution_count": null,
      "outputs": [
        {
          "output_type": "stream",
          "name": "stdout",
          "text": [
            "1000 loops, best of 5: 863 µs per loop\n",
            "1 loop, best of 5: 1.55 s per loop\n",
            "1000 loops, best of 5: 553 µs per loop\n"
          ]
        }
      ]
    }
  ]
}